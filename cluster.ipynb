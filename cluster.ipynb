{
 "cells": [
  {
   "cell_type": "code",
   "execution_count": 1,
   "metadata": {
    "collapsed": true
   },
   "outputs": [],
   "source": [
    "import numpy as np\n",
    "import pandas as pd\n",
    "import matplotlib.pyplot as plt"
   ]
  },
  {
   "cell_type": "code",
   "execution_count": 3,
   "outputs": [
    {
     "data": {
      "text/plain": "              Age  Gender Family_Diabetes highBP      PhysicallyActive   BMI  \\\n0           50-59    Male              no    yes        one hr or more  39.0   \n1           50-59    Male              no    yes  less than half an hr  28.0   \n2           40-49    Male              no     no        one hr or more  24.0   \n3           50-59    Male              no     no        one hr or more  23.0   \n4           40-49    Male              no     no  less than half an hr  27.0   \n..            ...     ...             ...    ...                   ...   ...   \n947  less than 40    Male             yes     no  more than half an hr  25.0   \n948   60 or older    Male             yes    yes  more than half an hr  27.0   \n949   60 or older    Male              no    yes                  none  23.0   \n950   60 or older    Male              no    yes  less than half an hr  27.0   \n951   60 or older  Female             yes    yes        one hr or more  30.0   \n\n    Smoking Alcohol  Sleep  SoundSleep RegularMedicine      JunkFood  \\\n0        no      no      8           6              no  occasionally   \n1        no      no      8           6             yes    very often   \n2        no      no      6           6              no  occasionally   \n3        no      no      8           6              no  occasionally   \n4        no      no      8           8              no  occasionally   \n..      ...     ...    ...         ...             ...           ...   \n947      no      no      8           6              no         often   \n948      no      no      6           5             yes  occasionally   \n949      no      no      6           5             yes  occasionally   \n950      no     yes      6           5             yes  occasionally   \n951      no      no      7           4             yes  occasionally   \n\n         Stress BPLevel  Pregancies Pdiabetes UriationFreq Diabetic  \n0     sometimes    high         0.0         0     not much       no  \n1     sometimes  normal         0.0         0     not much       no  \n2     sometimes  normal         0.0         0     not much       no  \n3     sometimes  normal         0.0         0     not much       no  \n4     sometimes  normal         0.0         0     not much       no  \n..          ...     ...         ...       ...          ...      ...  \n947   sometimes  normal         0.0         0     not much      yes  \n948   sometimes    high         0.0         0  quite often      yes  \n949   sometimes    high         0.0         0     not much       no  \n950  very often    high         0.0         0     not much       no  \n951   sometimes    high         2.0         0  quite often      yes  \n\n[952 rows x 18 columns]",
      "text/html": "<div>\n<style scoped>\n    .dataframe tbody tr th:only-of-type {\n        vertical-align: middle;\n    }\n\n    .dataframe tbody tr th {\n        vertical-align: top;\n    }\n\n    .dataframe thead th {\n        text-align: right;\n    }\n</style>\n<table border=\"1\" class=\"dataframe\">\n  <thead>\n    <tr style=\"text-align: right;\">\n      <th></th>\n      <th>Age</th>\n      <th>Gender</th>\n      <th>Family_Diabetes</th>\n      <th>highBP</th>\n      <th>PhysicallyActive</th>\n      <th>BMI</th>\n      <th>Smoking</th>\n      <th>Alcohol</th>\n      <th>Sleep</th>\n      <th>SoundSleep</th>\n      <th>RegularMedicine</th>\n      <th>JunkFood</th>\n      <th>Stress</th>\n      <th>BPLevel</th>\n      <th>Pregancies</th>\n      <th>Pdiabetes</th>\n      <th>UriationFreq</th>\n      <th>Diabetic</th>\n    </tr>\n  </thead>\n  <tbody>\n    <tr>\n      <th>0</th>\n      <td>50-59</td>\n      <td>Male</td>\n      <td>no</td>\n      <td>yes</td>\n      <td>one hr or more</td>\n      <td>39.0</td>\n      <td>no</td>\n      <td>no</td>\n      <td>8</td>\n      <td>6</td>\n      <td>no</td>\n      <td>occasionally</td>\n      <td>sometimes</td>\n      <td>high</td>\n      <td>0.0</td>\n      <td>0</td>\n      <td>not much</td>\n      <td>no</td>\n    </tr>\n    <tr>\n      <th>1</th>\n      <td>50-59</td>\n      <td>Male</td>\n      <td>no</td>\n      <td>yes</td>\n      <td>less than half an hr</td>\n      <td>28.0</td>\n      <td>no</td>\n      <td>no</td>\n      <td>8</td>\n      <td>6</td>\n      <td>yes</td>\n      <td>very often</td>\n      <td>sometimes</td>\n      <td>normal</td>\n      <td>0.0</td>\n      <td>0</td>\n      <td>not much</td>\n      <td>no</td>\n    </tr>\n    <tr>\n      <th>2</th>\n      <td>40-49</td>\n      <td>Male</td>\n      <td>no</td>\n      <td>no</td>\n      <td>one hr or more</td>\n      <td>24.0</td>\n      <td>no</td>\n      <td>no</td>\n      <td>6</td>\n      <td>6</td>\n      <td>no</td>\n      <td>occasionally</td>\n      <td>sometimes</td>\n      <td>normal</td>\n      <td>0.0</td>\n      <td>0</td>\n      <td>not much</td>\n      <td>no</td>\n    </tr>\n    <tr>\n      <th>3</th>\n      <td>50-59</td>\n      <td>Male</td>\n      <td>no</td>\n      <td>no</td>\n      <td>one hr or more</td>\n      <td>23.0</td>\n      <td>no</td>\n      <td>no</td>\n      <td>8</td>\n      <td>6</td>\n      <td>no</td>\n      <td>occasionally</td>\n      <td>sometimes</td>\n      <td>normal</td>\n      <td>0.0</td>\n      <td>0</td>\n      <td>not much</td>\n      <td>no</td>\n    </tr>\n    <tr>\n      <th>4</th>\n      <td>40-49</td>\n      <td>Male</td>\n      <td>no</td>\n      <td>no</td>\n      <td>less than half an hr</td>\n      <td>27.0</td>\n      <td>no</td>\n      <td>no</td>\n      <td>8</td>\n      <td>8</td>\n      <td>no</td>\n      <td>occasionally</td>\n      <td>sometimes</td>\n      <td>normal</td>\n      <td>0.0</td>\n      <td>0</td>\n      <td>not much</td>\n      <td>no</td>\n    </tr>\n    <tr>\n      <th>...</th>\n      <td>...</td>\n      <td>...</td>\n      <td>...</td>\n      <td>...</td>\n      <td>...</td>\n      <td>...</td>\n      <td>...</td>\n      <td>...</td>\n      <td>...</td>\n      <td>...</td>\n      <td>...</td>\n      <td>...</td>\n      <td>...</td>\n      <td>...</td>\n      <td>...</td>\n      <td>...</td>\n      <td>...</td>\n      <td>...</td>\n    </tr>\n    <tr>\n      <th>947</th>\n      <td>less than 40</td>\n      <td>Male</td>\n      <td>yes</td>\n      <td>no</td>\n      <td>more than half an hr</td>\n      <td>25.0</td>\n      <td>no</td>\n      <td>no</td>\n      <td>8</td>\n      <td>6</td>\n      <td>no</td>\n      <td>often</td>\n      <td>sometimes</td>\n      <td>normal</td>\n      <td>0.0</td>\n      <td>0</td>\n      <td>not much</td>\n      <td>yes</td>\n    </tr>\n    <tr>\n      <th>948</th>\n      <td>60 or older</td>\n      <td>Male</td>\n      <td>yes</td>\n      <td>yes</td>\n      <td>more than half an hr</td>\n      <td>27.0</td>\n      <td>no</td>\n      <td>no</td>\n      <td>6</td>\n      <td>5</td>\n      <td>yes</td>\n      <td>occasionally</td>\n      <td>sometimes</td>\n      <td>high</td>\n      <td>0.0</td>\n      <td>0</td>\n      <td>quite often</td>\n      <td>yes</td>\n    </tr>\n    <tr>\n      <th>949</th>\n      <td>60 or older</td>\n      <td>Male</td>\n      <td>no</td>\n      <td>yes</td>\n      <td>none</td>\n      <td>23.0</td>\n      <td>no</td>\n      <td>no</td>\n      <td>6</td>\n      <td>5</td>\n      <td>yes</td>\n      <td>occasionally</td>\n      <td>sometimes</td>\n      <td>high</td>\n      <td>0.0</td>\n      <td>0</td>\n      <td>not much</td>\n      <td>no</td>\n    </tr>\n    <tr>\n      <th>950</th>\n      <td>60 or older</td>\n      <td>Male</td>\n      <td>no</td>\n      <td>yes</td>\n      <td>less than half an hr</td>\n      <td>27.0</td>\n      <td>no</td>\n      <td>yes</td>\n      <td>6</td>\n      <td>5</td>\n      <td>yes</td>\n      <td>occasionally</td>\n      <td>very often</td>\n      <td>high</td>\n      <td>0.0</td>\n      <td>0</td>\n      <td>not much</td>\n      <td>no</td>\n    </tr>\n    <tr>\n      <th>951</th>\n      <td>60 or older</td>\n      <td>Female</td>\n      <td>yes</td>\n      <td>yes</td>\n      <td>one hr or more</td>\n      <td>30.0</td>\n      <td>no</td>\n      <td>no</td>\n      <td>7</td>\n      <td>4</td>\n      <td>yes</td>\n      <td>occasionally</td>\n      <td>sometimes</td>\n      <td>high</td>\n      <td>2.0</td>\n      <td>0</td>\n      <td>quite often</td>\n      <td>yes</td>\n    </tr>\n  </tbody>\n</table>\n<p>952 rows × 18 columns</p>\n</div>"
     },
     "execution_count": 3,
     "metadata": {},
     "output_type": "execute_result"
    }
   ],
   "source": [
    "df = pd.read_csv('diabetes_dataset__2019.csv')\n",
    "df"
   ],
   "metadata": {
    "collapsed": false,
    "pycharm": {
     "name": "#%%\n"
    }
   }
  },
  {
   "cell_type": "code",
   "execution_count": 4,
   "outputs": [
    {
     "data": {
      "text/plain": "sometimes     564\nvery often    164\nnot at all    136\nalways         88\nName: Stress, dtype: int64"
     },
     "execution_count": 4,
     "metadata": {},
     "output_type": "execute_result"
    }
   ],
   "source": [
    "df.Stress.value_counts()"
   ],
   "metadata": {
    "collapsed": false,
    "pycharm": {
     "name": "#%%\n"
    }
   }
  },
  {
   "cell_type": "code",
   "execution_count": 5,
   "outputs": [
    {
     "data": {
      "text/plain": "sometimes     0.592437\nvery often    0.172269\nnot at all    0.142857\nalways        0.092437\nName: Stress, dtype: float64"
     },
     "execution_count": 5,
     "metadata": {},
     "output_type": "execute_result"
    }
   ],
   "source": [
    "# ver percentualmente dividindo pela quantidade de linhas na tabela\n",
    "df.Stress.value_counts() / df.shape[0]"
   ],
   "metadata": {
    "collapsed": false,
    "pycharm": {
     "name": "#%%\n"
    }
   }
  },
  {
   "cell_type": "code",
   "execution_count": 6,
   "outputs": [
    {
     "data": {
      "text/plain": "0.0    754\n2.0     64\n3.0     60\nNaN     42\n1.0     28\n4.0      4\nName: Pregancies, dtype: int64"
     },
     "execution_count": 6,
     "metadata": {},
     "output_type": "execute_result"
    }
   ],
   "source": [
    "# dropna=False exibe a quantidade de campos not a number\n",
    "df.Pregancies.value_counts(dropna=False)"
   ],
   "metadata": {
    "collapsed": false,
    "pycharm": {
     "name": "#%%\n"
    }
   }
  },
  {
   "cell_type": "code",
   "execution_count": 7,
   "outputs": [
    {
     "data": {
      "text/plain": "no     684\nyes    266\n no      1\nNaN      1\nName: Diabetic, dtype: int64"
     },
     "execution_count": 7,
     "metadata": {},
     "output_type": "execute_result"
    }
   ],
   "source": [
    "df.Diabetic.value_counts(dropna=False)"
   ],
   "metadata": {
    "collapsed": false,
    "pycharm": {
     "name": "#%%\n"
    }
   }
  },
  {
   "cell_type": "code",
   "execution_count": null,
   "outputs": [],
   "source": [
    "# preprocessamento"
   ],
   "metadata": {
    "collapsed": false,
    "pycharm": {
     "name": "#%%\n"
    }
   }
  }
 ],
 "metadata": {
  "kernelspec": {
   "display_name": "Python 3",
   "language": "python",
   "name": "python3"
  },
  "language_info": {
   "codemirror_mode": {
    "name": "ipython",
    "version": 2
   },
   "file_extension": ".py",
   "mimetype": "text/x-python",
   "name": "python",
   "nbconvert_exporter": "python",
   "pygments_lexer": "ipython2",
   "version": "2.7.6"
  }
 },
 "nbformat": 4,
 "nbformat_minor": 0
}