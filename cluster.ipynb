{
 "cells": [
  {
   "cell_type": "code",
   "execution_count": 1,
   "metadata": {
    "collapsed": true
   },
   "outputs": [],
   "source": [
    "import numpy as np\n",
    "import pandas as pd\n",
    "import matplotlib.pyplot as plt"
   ]
  },
  {
   "cell_type": "code",
   "execution_count": 2,
   "outputs": [
    {
     "data": {
      "text/plain": "              Age  Gender Family_Diabetes highBP      PhysicallyActive   BMI  \\\n0           50-59    Male              no    yes        one hr or more  39.0   \n1           50-59    Male              no    yes  less than half an hr  28.0   \n2           40-49    Male              no     no        one hr or more  24.0   \n3           50-59    Male              no     no        one hr or more  23.0   \n4           40-49    Male              no     no  less than half an hr  27.0   \n..            ...     ...             ...    ...                   ...   ...   \n947  less than 40    Male             yes     no  more than half an hr  25.0   \n948   60 or older    Male             yes    yes  more than half an hr  27.0   \n949   60 or older    Male              no    yes                  none  23.0   \n950   60 or older    Male              no    yes  less than half an hr  27.0   \n951   60 or older  Female             yes    yes        one hr or more  30.0   \n\n    Smoking Alcohol  Sleep  SoundSleep RegularMedicine      JunkFood  \\\n0        no      no      8           6              no  occasionally   \n1        no      no      8           6             yes    very often   \n2        no      no      6           6              no  occasionally   \n3        no      no      8           6              no  occasionally   \n4        no      no      8           8              no  occasionally   \n..      ...     ...    ...         ...             ...           ...   \n947      no      no      8           6              no         often   \n948      no      no      6           5             yes  occasionally   \n949      no      no      6           5             yes  occasionally   \n950      no     yes      6           5             yes  occasionally   \n951      no      no      7           4             yes  occasionally   \n\n         Stress BPLevel  Pregancies Pdiabetes UriationFreq Diabetic  \n0     sometimes    high         0.0         0     not much       no  \n1     sometimes  normal         0.0         0     not much       no  \n2     sometimes  normal         0.0         0     not much       no  \n3     sometimes  normal         0.0         0     not much       no  \n4     sometimes  normal         0.0         0     not much       no  \n..          ...     ...         ...       ...          ...      ...  \n947   sometimes  normal         0.0         0     not much      yes  \n948   sometimes    high         0.0         0  quite often      yes  \n949   sometimes    high         0.0         0     not much       no  \n950  very often    high         0.0         0     not much       no  \n951   sometimes    high         2.0         0  quite often      yes  \n\n[952 rows x 18 columns]",
      "text/html": "<div>\n<style scoped>\n    .dataframe tbody tr th:only-of-type {\n        vertical-align: middle;\n    }\n\n    .dataframe tbody tr th {\n        vertical-align: top;\n    }\n\n    .dataframe thead th {\n        text-align: right;\n    }\n</style>\n<table border=\"1\" class=\"dataframe\">\n  <thead>\n    <tr style=\"text-align: right;\">\n      <th></th>\n      <th>Age</th>\n      <th>Gender</th>\n      <th>Family_Diabetes</th>\n      <th>highBP</th>\n      <th>PhysicallyActive</th>\n      <th>BMI</th>\n      <th>Smoking</th>\n      <th>Alcohol</th>\n      <th>Sleep</th>\n      <th>SoundSleep</th>\n      <th>RegularMedicine</th>\n      <th>JunkFood</th>\n      <th>Stress</th>\n      <th>BPLevel</th>\n      <th>Pregancies</th>\n      <th>Pdiabetes</th>\n      <th>UriationFreq</th>\n      <th>Diabetic</th>\n    </tr>\n  </thead>\n  <tbody>\n    <tr>\n      <th>0</th>\n      <td>50-59</td>\n      <td>Male</td>\n      <td>no</td>\n      <td>yes</td>\n      <td>one hr or more</td>\n      <td>39.0</td>\n      <td>no</td>\n      <td>no</td>\n      <td>8</td>\n      <td>6</td>\n      <td>no</td>\n      <td>occasionally</td>\n      <td>sometimes</td>\n      <td>high</td>\n      <td>0.0</td>\n      <td>0</td>\n      <td>not much</td>\n      <td>no</td>\n    </tr>\n    <tr>\n      <th>1</th>\n      <td>50-59</td>\n      <td>Male</td>\n      <td>no</td>\n      <td>yes</td>\n      <td>less than half an hr</td>\n      <td>28.0</td>\n      <td>no</td>\n      <td>no</td>\n      <td>8</td>\n      <td>6</td>\n      <td>yes</td>\n      <td>very often</td>\n      <td>sometimes</td>\n      <td>normal</td>\n      <td>0.0</td>\n      <td>0</td>\n      <td>not much</td>\n      <td>no</td>\n    </tr>\n    <tr>\n      <th>2</th>\n      <td>40-49</td>\n      <td>Male</td>\n      <td>no</td>\n      <td>no</td>\n      <td>one hr or more</td>\n      <td>24.0</td>\n      <td>no</td>\n      <td>no</td>\n      <td>6</td>\n      <td>6</td>\n      <td>no</td>\n      <td>occasionally</td>\n      <td>sometimes</td>\n      <td>normal</td>\n      <td>0.0</td>\n      <td>0</td>\n      <td>not much</td>\n      <td>no</td>\n    </tr>\n    <tr>\n      <th>3</th>\n      <td>50-59</td>\n      <td>Male</td>\n      <td>no</td>\n      <td>no</td>\n      <td>one hr or more</td>\n      <td>23.0</td>\n      <td>no</td>\n      <td>no</td>\n      <td>8</td>\n      <td>6</td>\n      <td>no</td>\n      <td>occasionally</td>\n      <td>sometimes</td>\n      <td>normal</td>\n      <td>0.0</td>\n      <td>0</td>\n      <td>not much</td>\n      <td>no</td>\n    </tr>\n    <tr>\n      <th>4</th>\n      <td>40-49</td>\n      <td>Male</td>\n      <td>no</td>\n      <td>no</td>\n      <td>less than half an hr</td>\n      <td>27.0</td>\n      <td>no</td>\n      <td>no</td>\n      <td>8</td>\n      <td>8</td>\n      <td>no</td>\n      <td>occasionally</td>\n      <td>sometimes</td>\n      <td>normal</td>\n      <td>0.0</td>\n      <td>0</td>\n      <td>not much</td>\n      <td>no</td>\n    </tr>\n    <tr>\n      <th>...</th>\n      <td>...</td>\n      <td>...</td>\n      <td>...</td>\n      <td>...</td>\n      <td>...</td>\n      <td>...</td>\n      <td>...</td>\n      <td>...</td>\n      <td>...</td>\n      <td>...</td>\n      <td>...</td>\n      <td>...</td>\n      <td>...</td>\n      <td>...</td>\n      <td>...</td>\n      <td>...</td>\n      <td>...</td>\n      <td>...</td>\n    </tr>\n    <tr>\n      <th>947</th>\n      <td>less than 40</td>\n      <td>Male</td>\n      <td>yes</td>\n      <td>no</td>\n      <td>more than half an hr</td>\n      <td>25.0</td>\n      <td>no</td>\n      <td>no</td>\n      <td>8</td>\n      <td>6</td>\n      <td>no</td>\n      <td>often</td>\n      <td>sometimes</td>\n      <td>normal</td>\n      <td>0.0</td>\n      <td>0</td>\n      <td>not much</td>\n      <td>yes</td>\n    </tr>\n    <tr>\n      <th>948</th>\n      <td>60 or older</td>\n      <td>Male</td>\n      <td>yes</td>\n      <td>yes</td>\n      <td>more than half an hr</td>\n      <td>27.0</td>\n      <td>no</td>\n      <td>no</td>\n      <td>6</td>\n      <td>5</td>\n      <td>yes</td>\n      <td>occasionally</td>\n      <td>sometimes</td>\n      <td>high</td>\n      <td>0.0</td>\n      <td>0</td>\n      <td>quite often</td>\n      <td>yes</td>\n    </tr>\n    <tr>\n      <th>949</th>\n      <td>60 or older</td>\n      <td>Male</td>\n      <td>no</td>\n      <td>yes</td>\n      <td>none</td>\n      <td>23.0</td>\n      <td>no</td>\n      <td>no</td>\n      <td>6</td>\n      <td>5</td>\n      <td>yes</td>\n      <td>occasionally</td>\n      <td>sometimes</td>\n      <td>high</td>\n      <td>0.0</td>\n      <td>0</td>\n      <td>not much</td>\n      <td>no</td>\n    </tr>\n    <tr>\n      <th>950</th>\n      <td>60 or older</td>\n      <td>Male</td>\n      <td>no</td>\n      <td>yes</td>\n      <td>less than half an hr</td>\n      <td>27.0</td>\n      <td>no</td>\n      <td>yes</td>\n      <td>6</td>\n      <td>5</td>\n      <td>yes</td>\n      <td>occasionally</td>\n      <td>very often</td>\n      <td>high</td>\n      <td>0.0</td>\n      <td>0</td>\n      <td>not much</td>\n      <td>no</td>\n    </tr>\n    <tr>\n      <th>951</th>\n      <td>60 or older</td>\n      <td>Female</td>\n      <td>yes</td>\n      <td>yes</td>\n      <td>one hr or more</td>\n      <td>30.0</td>\n      <td>no</td>\n      <td>no</td>\n      <td>7</td>\n      <td>4</td>\n      <td>yes</td>\n      <td>occasionally</td>\n      <td>sometimes</td>\n      <td>high</td>\n      <td>2.0</td>\n      <td>0</td>\n      <td>quite often</td>\n      <td>yes</td>\n    </tr>\n  </tbody>\n</table>\n<p>952 rows × 18 columns</p>\n</div>"
     },
     "execution_count": 2,
     "metadata": {},
     "output_type": "execute_result"
    }
   ],
   "source": [
    "df = pd.read_csv('diabetes_dataset__2019.csv')\n",
    "df"
   ],
   "metadata": {
    "collapsed": false,
    "pycharm": {
     "name": "#%%\n"
    }
   }
  },
  {
   "cell_type": "code",
   "execution_count": 3,
   "outputs": [
    {
     "data": {
      "text/plain": "sometimes     564\nvery often    164\nnot at all    136\nalways         88\nName: Stress, dtype: int64"
     },
     "execution_count": 3,
     "metadata": {},
     "output_type": "execute_result"
    }
   ],
   "source": [
    "df.Stress.value_counts()"
   ],
   "metadata": {
    "collapsed": false,
    "pycharm": {
     "name": "#%%\n"
    }
   }
  },
  {
   "cell_type": "code",
   "execution_count": 4,
   "outputs": [
    {
     "data": {
      "text/plain": "sometimes     0.592437\nvery often    0.172269\nnot at all    0.142857\nalways        0.092437\nName: Stress, dtype: float64"
     },
     "execution_count": 4,
     "metadata": {},
     "output_type": "execute_result"
    }
   ],
   "source": [
    "# ver percentualmente dividindo pela quantidade de linhas na tabela\n",
    "df.Stress.value_counts() / df.shape[0]"
   ],
   "metadata": {
    "collapsed": false,
    "pycharm": {
     "name": "#%%\n"
    }
   }
  },
  {
   "cell_type": "code",
   "execution_count": 5,
   "outputs": [
    {
     "data": {
      "text/plain": "0.0    754\n2.0     64\n3.0     60\nNaN     42\n1.0     28\n4.0      4\nName: Pregancies, dtype: int64"
     },
     "execution_count": 5,
     "metadata": {},
     "output_type": "execute_result"
    }
   ],
   "source": [
    "# dropna=False exibe a quantidade de campos not a number\n",
    "df.Pregancies.value_counts(dropna=False)"
   ],
   "metadata": {
    "collapsed": false,
    "pycharm": {
     "name": "#%%\n"
    }
   }
  },
  {
   "cell_type": "code",
   "execution_count": 6,
   "outputs": [
    {
     "data": {
      "text/plain": "no     684\nyes    266\n no      1\nNaN      1\nName: Diabetic, dtype: int64"
     },
     "execution_count": 6,
     "metadata": {},
     "output_type": "execute_result"
    }
   ],
   "source": [
    "df.Diabetic.value_counts(dropna=False)"
   ],
   "metadata": {
    "collapsed": false,
    "pycharm": {
     "name": "#%%\n"
    }
   }
  },
  {
   "cell_type": "code",
   "execution_count": 7,
   "outputs": [
    {
     "data": {
      "text/plain": "Male      580\nFemale    372\nName: Gender, dtype: int64"
     },
     "execution_count": 7,
     "metadata": {},
     "output_type": "execute_result"
    }
   ],
   "source": [
    "df.Gender.value_counts(dropna=False)"
   ],
   "metadata": {
    "collapsed": false,
    "pycharm": {
     "name": "#%%\n"
    }
   }
  },
  {
   "cell_type": "code",
   "execution_count": 8,
   "outputs": [
    {
     "data": {
      "text/plain": "sometimes     564\nvery often    164\nnot at all    136\nalways         88\nName: Stress, dtype: int64"
     },
     "execution_count": 8,
     "metadata": {},
     "output_type": "execute_result"
    }
   ],
   "source": [
    "df.Stress.value_counts()"
   ],
   "metadata": {
    "collapsed": false,
    "pycharm": {
     "name": "#%%\n"
    }
   }
  },
  {
   "cell_type": "code",
   "execution_count": 9,
   "outputs": [
    {
     "data": {
      "text/plain": "113   NaN\n116   NaN\n121   NaN\n122   NaN\nName: BMI, dtype: float64"
     },
     "execution_count": 9,
     "metadata": {},
     "output_type": "execute_result"
    }
   ],
   "source": [
    "df.loc[pd.isnull(df.BMI), 'BMI']"
   ],
   "metadata": {
    "collapsed": false,
    "pycharm": {
     "name": "#%%\n"
    }
   }
  },
  {
   "cell_type": "code",
   "execution_count": 10,
   "outputs": [],
   "source": [
    "# preprocessamento\n",
    "\n",
    "df.loc[pd.isnull(df.BMI), 'BMI'] = df.BMI.mean()\n",
    "df.loc[pd.isnull(df.Pregancies), 'Pregancies'] = 0\n",
    "df.loc[pd.isnull(df.Pdiabetes), 'Pdiabetes'] = 0\n",
    "df.loc[pd.isnull(df.Diabetic), 'Diabetic'] = 'no'\n",
    "df.loc[:, 'Diabetic'] = df.Diabetic.replace(' no', 'no')\n",
    "df.loc[:, 'Pdiabetes'] = df.Pdiabetes.replace(0, 'no')\n",
    "df.loc[:, 'RegularMedicine'] = df.RegularMedicine.replace('o', 'no')\n",
    "df.loc[:, 'BPLevel'] = df.BPLevel.replace('normal ', 'normal').replace('High', 'high').replace('Low', 'low')"
   ],
   "metadata": {
    "collapsed": false,
    "pycharm": {
     "name": "#%%\n"
    }
   }
  },
  {
   "cell_type": "code",
   "execution_count": 11,
   "outputs": [
    {
     "data": {
      "text/plain": "no     686\nyes    266\nName: Diabetic, dtype: int64"
     },
     "execution_count": 11,
     "metadata": {},
     "output_type": "execute_result"
    }
   ],
   "source": [
    "df.Diabetic.value_counts(dropna=False)"
   ],
   "metadata": {
    "collapsed": false,
    "pycharm": {
     "name": "#%%\n"
    }
   }
  },
  {
   "cell_type": "code",
   "execution_count": 12,
   "outputs": [
    {
     "data": {
      "text/plain": "              Age  Gender Family_Diabetes highBP      PhysicallyActive   BMI  \\\n0           50-59    Male              no    yes        one hr or more  39.0   \n1           50-59    Male              no    yes  less than half an hr  28.0   \n2           40-49    Male              no     no        one hr or more  24.0   \n3           50-59    Male              no     no        one hr or more  23.0   \n4           40-49    Male              no     no  less than half an hr  27.0   \n..            ...     ...             ...    ...                   ...   ...   \n947  less than 40    Male             yes     no  more than half an hr  25.0   \n948   60 or older    Male             yes    yes  more than half an hr  27.0   \n949   60 or older    Male              no    yes                  none  23.0   \n950   60 or older    Male              no    yes  less than half an hr  27.0   \n951   60 or older  Female             yes    yes        one hr or more  30.0   \n\n    Smoking Alcohol  Sleep  SoundSleep RegularMedicine      JunkFood  \\\n0        no      no      8           6              no  occasionally   \n1        no      no      8           6             yes    very often   \n2        no      no      6           6              no  occasionally   \n3        no      no      8           6              no  occasionally   \n4        no      no      8           8              no  occasionally   \n..      ...     ...    ...         ...             ...           ...   \n947      no      no      8           6              no         often   \n948      no      no      6           5             yes  occasionally   \n949      no      no      6           5             yes  occasionally   \n950      no     yes      6           5             yes  occasionally   \n951      no      no      7           4             yes  occasionally   \n\n         Stress BPLevel  Pregancies Pdiabetes UriationFreq Diabetic  \n0     sometimes    high         0.0         0     not much       no  \n1     sometimes  normal         0.0         0     not much       no  \n2     sometimes  normal         0.0         0     not much       no  \n3     sometimes  normal         0.0         0     not much       no  \n4     sometimes  normal         0.0         0     not much       no  \n..          ...     ...         ...       ...          ...      ...  \n947   sometimes  normal         0.0         0     not much      yes  \n948   sometimes    high         0.0         0  quite often      yes  \n949   sometimes    high         0.0         0     not much       no  \n950  very often    high         0.0         0     not much       no  \n951   sometimes    high         2.0         0  quite often      yes  \n\n[952 rows x 18 columns]",
      "text/html": "<div>\n<style scoped>\n    .dataframe tbody tr th:only-of-type {\n        vertical-align: middle;\n    }\n\n    .dataframe tbody tr th {\n        vertical-align: top;\n    }\n\n    .dataframe thead th {\n        text-align: right;\n    }\n</style>\n<table border=\"1\" class=\"dataframe\">\n  <thead>\n    <tr style=\"text-align: right;\">\n      <th></th>\n      <th>Age</th>\n      <th>Gender</th>\n      <th>Family_Diabetes</th>\n      <th>highBP</th>\n      <th>PhysicallyActive</th>\n      <th>BMI</th>\n      <th>Smoking</th>\n      <th>Alcohol</th>\n      <th>Sleep</th>\n      <th>SoundSleep</th>\n      <th>RegularMedicine</th>\n      <th>JunkFood</th>\n      <th>Stress</th>\n      <th>BPLevel</th>\n      <th>Pregancies</th>\n      <th>Pdiabetes</th>\n      <th>UriationFreq</th>\n      <th>Diabetic</th>\n    </tr>\n  </thead>\n  <tbody>\n    <tr>\n      <th>0</th>\n      <td>50-59</td>\n      <td>Male</td>\n      <td>no</td>\n      <td>yes</td>\n      <td>one hr or more</td>\n      <td>39.0</td>\n      <td>no</td>\n      <td>no</td>\n      <td>8</td>\n      <td>6</td>\n      <td>no</td>\n      <td>occasionally</td>\n      <td>sometimes</td>\n      <td>high</td>\n      <td>0.0</td>\n      <td>0</td>\n      <td>not much</td>\n      <td>no</td>\n    </tr>\n    <tr>\n      <th>1</th>\n      <td>50-59</td>\n      <td>Male</td>\n      <td>no</td>\n      <td>yes</td>\n      <td>less than half an hr</td>\n      <td>28.0</td>\n      <td>no</td>\n      <td>no</td>\n      <td>8</td>\n      <td>6</td>\n      <td>yes</td>\n      <td>very often</td>\n      <td>sometimes</td>\n      <td>normal</td>\n      <td>0.0</td>\n      <td>0</td>\n      <td>not much</td>\n      <td>no</td>\n    </tr>\n    <tr>\n      <th>2</th>\n      <td>40-49</td>\n      <td>Male</td>\n      <td>no</td>\n      <td>no</td>\n      <td>one hr or more</td>\n      <td>24.0</td>\n      <td>no</td>\n      <td>no</td>\n      <td>6</td>\n      <td>6</td>\n      <td>no</td>\n      <td>occasionally</td>\n      <td>sometimes</td>\n      <td>normal</td>\n      <td>0.0</td>\n      <td>0</td>\n      <td>not much</td>\n      <td>no</td>\n    </tr>\n    <tr>\n      <th>3</th>\n      <td>50-59</td>\n      <td>Male</td>\n      <td>no</td>\n      <td>no</td>\n      <td>one hr or more</td>\n      <td>23.0</td>\n      <td>no</td>\n      <td>no</td>\n      <td>8</td>\n      <td>6</td>\n      <td>no</td>\n      <td>occasionally</td>\n      <td>sometimes</td>\n      <td>normal</td>\n      <td>0.0</td>\n      <td>0</td>\n      <td>not much</td>\n      <td>no</td>\n    </tr>\n    <tr>\n      <th>4</th>\n      <td>40-49</td>\n      <td>Male</td>\n      <td>no</td>\n      <td>no</td>\n      <td>less than half an hr</td>\n      <td>27.0</td>\n      <td>no</td>\n      <td>no</td>\n      <td>8</td>\n      <td>8</td>\n      <td>no</td>\n      <td>occasionally</td>\n      <td>sometimes</td>\n      <td>normal</td>\n      <td>0.0</td>\n      <td>0</td>\n      <td>not much</td>\n      <td>no</td>\n    </tr>\n    <tr>\n      <th>...</th>\n      <td>...</td>\n      <td>...</td>\n      <td>...</td>\n      <td>...</td>\n      <td>...</td>\n      <td>...</td>\n      <td>...</td>\n      <td>...</td>\n      <td>...</td>\n      <td>...</td>\n      <td>...</td>\n      <td>...</td>\n      <td>...</td>\n      <td>...</td>\n      <td>...</td>\n      <td>...</td>\n      <td>...</td>\n      <td>...</td>\n    </tr>\n    <tr>\n      <th>947</th>\n      <td>less than 40</td>\n      <td>Male</td>\n      <td>yes</td>\n      <td>no</td>\n      <td>more than half an hr</td>\n      <td>25.0</td>\n      <td>no</td>\n      <td>no</td>\n      <td>8</td>\n      <td>6</td>\n      <td>no</td>\n      <td>often</td>\n      <td>sometimes</td>\n      <td>normal</td>\n      <td>0.0</td>\n      <td>0</td>\n      <td>not much</td>\n      <td>yes</td>\n    </tr>\n    <tr>\n      <th>948</th>\n      <td>60 or older</td>\n      <td>Male</td>\n      <td>yes</td>\n      <td>yes</td>\n      <td>more than half an hr</td>\n      <td>27.0</td>\n      <td>no</td>\n      <td>no</td>\n      <td>6</td>\n      <td>5</td>\n      <td>yes</td>\n      <td>occasionally</td>\n      <td>sometimes</td>\n      <td>high</td>\n      <td>0.0</td>\n      <td>0</td>\n      <td>quite often</td>\n      <td>yes</td>\n    </tr>\n    <tr>\n      <th>949</th>\n      <td>60 or older</td>\n      <td>Male</td>\n      <td>no</td>\n      <td>yes</td>\n      <td>none</td>\n      <td>23.0</td>\n      <td>no</td>\n      <td>no</td>\n      <td>6</td>\n      <td>5</td>\n      <td>yes</td>\n      <td>occasionally</td>\n      <td>sometimes</td>\n      <td>high</td>\n      <td>0.0</td>\n      <td>0</td>\n      <td>not much</td>\n      <td>no</td>\n    </tr>\n    <tr>\n      <th>950</th>\n      <td>60 or older</td>\n      <td>Male</td>\n      <td>no</td>\n      <td>yes</td>\n      <td>less than half an hr</td>\n      <td>27.0</td>\n      <td>no</td>\n      <td>yes</td>\n      <td>6</td>\n      <td>5</td>\n      <td>yes</td>\n      <td>occasionally</td>\n      <td>very often</td>\n      <td>high</td>\n      <td>0.0</td>\n      <td>0</td>\n      <td>not much</td>\n      <td>no</td>\n    </tr>\n    <tr>\n      <th>951</th>\n      <td>60 or older</td>\n      <td>Female</td>\n      <td>yes</td>\n      <td>yes</td>\n      <td>one hr or more</td>\n      <td>30.0</td>\n      <td>no</td>\n      <td>no</td>\n      <td>7</td>\n      <td>4</td>\n      <td>yes</td>\n      <td>occasionally</td>\n      <td>sometimes</td>\n      <td>high</td>\n      <td>2.0</td>\n      <td>0</td>\n      <td>quite often</td>\n      <td>yes</td>\n    </tr>\n  </tbody>\n</table>\n<p>952 rows × 18 columns</p>\n</div>"
     },
     "execution_count": 12,
     "metadata": {},
     "output_type": "execute_result"
    }
   ],
   "source": [
    "df"
   ],
   "metadata": {
    "collapsed": false,
    "pycharm": {
     "name": "#%%\n"
    }
   }
  },
  {
   "cell_type": "code",
   "execution_count": 13,
   "outputs": [],
   "source": [
    "# transformando em colunas dummy"
   ],
   "metadata": {
    "collapsed": false,
    "pycharm": {
     "name": "#%%\n"
    }
   }
  },
  {
   "cell_type": "code",
   "execution_count": 14,
   "outputs": [],
   "source": [
    "df_d = pd.get_dummies(df)"
   ],
   "metadata": {
    "collapsed": false,
    "pycharm": {
     "name": "#%%\n"
    }
   }
  },
  {
   "cell_type": "code",
   "execution_count": 15,
   "outputs": [
    {
     "data": {
      "text/plain": "      BMI  Sleep  SoundSleep  Pregancies  Age_40-49  Age_50-59  \\\n0    39.0      8           6         0.0          0          1   \n1    28.0      8           6         0.0          0          1   \n2    24.0      6           6         0.0          1          0   \n3    23.0      8           6         0.0          0          1   \n4    27.0      8           8         0.0          1          0   \n..    ...    ...         ...         ...        ...        ...   \n947  25.0      8           6         0.0          0          0   \n948  27.0      6           5         0.0          0          0   \n949  23.0      6           5         0.0          0          0   \n950  27.0      6           5         0.0          0          0   \n951  30.0      7           4         2.0          0          0   \n\n     Age_60 or older  Age_less than 40  Gender_Female  Gender_Male  ...  \\\n0                  0                 0              0            1  ...   \n1                  0                 0              0            1  ...   \n2                  0                 0              0            1  ...   \n3                  0                 0              0            1  ...   \n4                  0                 0              0            1  ...   \n..               ...               ...            ...          ...  ...   \n947                0                 1              0            1  ...   \n948                1                 0              0            1  ...   \n949                1                 0              0            1  ...   \n950                1                 0              0            1  ...   \n951                1                 0              1            0  ...   \n\n     BPLevel_high  BPLevel_low  BPLevel_normal  Pdiabetes_0  Pdiabetes_no  \\\n0               1            0               0            1             0   \n1               0            0               1            1             0   \n2               0            0               1            1             0   \n3               0            0               1            1             0   \n4               0            0               1            1             0   \n..            ...          ...             ...          ...           ...   \n947             0            0               1            1             0   \n948             1            0               0            1             0   \n949             1            0               0            1             0   \n950             1            0               0            1             0   \n951             1            0               0            1             0   \n\n     Pdiabetes_yes  UriationFreq_not much  UriationFreq_quite often  \\\n0                0                      1                         0   \n1                0                      1                         0   \n2                0                      1                         0   \n3                0                      1                         0   \n4                0                      1                         0   \n..             ...                    ...                       ...   \n947              0                      1                         0   \n948              0                      0                         1   \n949              0                      1                         0   \n950              0                      1                         0   \n951              0                      0                         1   \n\n     Diabetic_no  Diabetic_yes  \n0              1             0  \n1              1             0  \n2              1             0  \n3              1             0  \n4              1             0  \n..           ...           ...  \n947            0             1  \n948            0             1  \n949            1             0  \n950            1             0  \n951            0             1  \n\n[952 rows x 42 columns]",
      "text/html": "<div>\n<style scoped>\n    .dataframe tbody tr th:only-of-type {\n        vertical-align: middle;\n    }\n\n    .dataframe tbody tr th {\n        vertical-align: top;\n    }\n\n    .dataframe thead th {\n        text-align: right;\n    }\n</style>\n<table border=\"1\" class=\"dataframe\">\n  <thead>\n    <tr style=\"text-align: right;\">\n      <th></th>\n      <th>BMI</th>\n      <th>Sleep</th>\n      <th>SoundSleep</th>\n      <th>Pregancies</th>\n      <th>Age_40-49</th>\n      <th>Age_50-59</th>\n      <th>Age_60 or older</th>\n      <th>Age_less than 40</th>\n      <th>Gender_Female</th>\n      <th>Gender_Male</th>\n      <th>...</th>\n      <th>BPLevel_high</th>\n      <th>BPLevel_low</th>\n      <th>BPLevel_normal</th>\n      <th>Pdiabetes_0</th>\n      <th>Pdiabetes_no</th>\n      <th>Pdiabetes_yes</th>\n      <th>UriationFreq_not much</th>\n      <th>UriationFreq_quite often</th>\n      <th>Diabetic_no</th>\n      <th>Diabetic_yes</th>\n    </tr>\n  </thead>\n  <tbody>\n    <tr>\n      <th>0</th>\n      <td>39.0</td>\n      <td>8</td>\n      <td>6</td>\n      <td>0.0</td>\n      <td>0</td>\n      <td>1</td>\n      <td>0</td>\n      <td>0</td>\n      <td>0</td>\n      <td>1</td>\n      <td>...</td>\n      <td>1</td>\n      <td>0</td>\n      <td>0</td>\n      <td>1</td>\n      <td>0</td>\n      <td>0</td>\n      <td>1</td>\n      <td>0</td>\n      <td>1</td>\n      <td>0</td>\n    </tr>\n    <tr>\n      <th>1</th>\n      <td>28.0</td>\n      <td>8</td>\n      <td>6</td>\n      <td>0.0</td>\n      <td>0</td>\n      <td>1</td>\n      <td>0</td>\n      <td>0</td>\n      <td>0</td>\n      <td>1</td>\n      <td>...</td>\n      <td>0</td>\n      <td>0</td>\n      <td>1</td>\n      <td>1</td>\n      <td>0</td>\n      <td>0</td>\n      <td>1</td>\n      <td>0</td>\n      <td>1</td>\n      <td>0</td>\n    </tr>\n    <tr>\n      <th>2</th>\n      <td>24.0</td>\n      <td>6</td>\n      <td>6</td>\n      <td>0.0</td>\n      <td>1</td>\n      <td>0</td>\n      <td>0</td>\n      <td>0</td>\n      <td>0</td>\n      <td>1</td>\n      <td>...</td>\n      <td>0</td>\n      <td>0</td>\n      <td>1</td>\n      <td>1</td>\n      <td>0</td>\n      <td>0</td>\n      <td>1</td>\n      <td>0</td>\n      <td>1</td>\n      <td>0</td>\n    </tr>\n    <tr>\n      <th>3</th>\n      <td>23.0</td>\n      <td>8</td>\n      <td>6</td>\n      <td>0.0</td>\n      <td>0</td>\n      <td>1</td>\n      <td>0</td>\n      <td>0</td>\n      <td>0</td>\n      <td>1</td>\n      <td>...</td>\n      <td>0</td>\n      <td>0</td>\n      <td>1</td>\n      <td>1</td>\n      <td>0</td>\n      <td>0</td>\n      <td>1</td>\n      <td>0</td>\n      <td>1</td>\n      <td>0</td>\n    </tr>\n    <tr>\n      <th>4</th>\n      <td>27.0</td>\n      <td>8</td>\n      <td>8</td>\n      <td>0.0</td>\n      <td>1</td>\n      <td>0</td>\n      <td>0</td>\n      <td>0</td>\n      <td>0</td>\n      <td>1</td>\n      <td>...</td>\n      <td>0</td>\n      <td>0</td>\n      <td>1</td>\n      <td>1</td>\n      <td>0</td>\n      <td>0</td>\n      <td>1</td>\n      <td>0</td>\n      <td>1</td>\n      <td>0</td>\n    </tr>\n    <tr>\n      <th>...</th>\n      <td>...</td>\n      <td>...</td>\n      <td>...</td>\n      <td>...</td>\n      <td>...</td>\n      <td>...</td>\n      <td>...</td>\n      <td>...</td>\n      <td>...</td>\n      <td>...</td>\n      <td>...</td>\n      <td>...</td>\n      <td>...</td>\n      <td>...</td>\n      <td>...</td>\n      <td>...</td>\n      <td>...</td>\n      <td>...</td>\n      <td>...</td>\n      <td>...</td>\n      <td>...</td>\n    </tr>\n    <tr>\n      <th>947</th>\n      <td>25.0</td>\n      <td>8</td>\n      <td>6</td>\n      <td>0.0</td>\n      <td>0</td>\n      <td>0</td>\n      <td>0</td>\n      <td>1</td>\n      <td>0</td>\n      <td>1</td>\n      <td>...</td>\n      <td>0</td>\n      <td>0</td>\n      <td>1</td>\n      <td>1</td>\n      <td>0</td>\n      <td>0</td>\n      <td>1</td>\n      <td>0</td>\n      <td>0</td>\n      <td>1</td>\n    </tr>\n    <tr>\n      <th>948</th>\n      <td>27.0</td>\n      <td>6</td>\n      <td>5</td>\n      <td>0.0</td>\n      <td>0</td>\n      <td>0</td>\n      <td>1</td>\n      <td>0</td>\n      <td>0</td>\n      <td>1</td>\n      <td>...</td>\n      <td>1</td>\n      <td>0</td>\n      <td>0</td>\n      <td>1</td>\n      <td>0</td>\n      <td>0</td>\n      <td>0</td>\n      <td>1</td>\n      <td>0</td>\n      <td>1</td>\n    </tr>\n    <tr>\n      <th>949</th>\n      <td>23.0</td>\n      <td>6</td>\n      <td>5</td>\n      <td>0.0</td>\n      <td>0</td>\n      <td>0</td>\n      <td>1</td>\n      <td>0</td>\n      <td>0</td>\n      <td>1</td>\n      <td>...</td>\n      <td>1</td>\n      <td>0</td>\n      <td>0</td>\n      <td>1</td>\n      <td>0</td>\n      <td>0</td>\n      <td>1</td>\n      <td>0</td>\n      <td>1</td>\n      <td>0</td>\n    </tr>\n    <tr>\n      <th>950</th>\n      <td>27.0</td>\n      <td>6</td>\n      <td>5</td>\n      <td>0.0</td>\n      <td>0</td>\n      <td>0</td>\n      <td>1</td>\n      <td>0</td>\n      <td>0</td>\n      <td>1</td>\n      <td>...</td>\n      <td>1</td>\n      <td>0</td>\n      <td>0</td>\n      <td>1</td>\n      <td>0</td>\n      <td>0</td>\n      <td>1</td>\n      <td>0</td>\n      <td>1</td>\n      <td>0</td>\n    </tr>\n    <tr>\n      <th>951</th>\n      <td>30.0</td>\n      <td>7</td>\n      <td>4</td>\n      <td>2.0</td>\n      <td>0</td>\n      <td>0</td>\n      <td>1</td>\n      <td>0</td>\n      <td>1</td>\n      <td>0</td>\n      <td>...</td>\n      <td>1</td>\n      <td>0</td>\n      <td>0</td>\n      <td>1</td>\n      <td>0</td>\n      <td>0</td>\n      <td>0</td>\n      <td>1</td>\n      <td>0</td>\n      <td>1</td>\n    </tr>\n  </tbody>\n</table>\n<p>952 rows × 42 columns</p>\n</div>"
     },
     "execution_count": 15,
     "metadata": {},
     "output_type": "execute_result"
    }
   ],
   "source": [
    "df_d"
   ],
   "metadata": {
    "collapsed": false,
    "pycharm": {
     "name": "#%%\n"
    }
   }
  },
  {
   "cell_type": "code",
   "execution_count": 16,
   "outputs": [
    {
     "data": {
      "text/plain": "0      67.0\n1      56.0\n2      50.0\n3      51.0\n4      57.0\n       ... \n947    53.0\n948    52.0\n949    48.0\n950    52.0\n951    57.0\nLength: 952, dtype: float64"
     },
     "execution_count": 16,
     "metadata": {},
     "output_type": "execute_result"
    }
   ],
   "source": [
    "# com este código somamos todos os valores numericos desta linha\n",
    "df_d.sum(axis=1)"
   ],
   "metadata": {
    "collapsed": false,
    "pycharm": {
     "name": "#%%\n"
    }
   }
  },
  {
   "cell_type": "code",
   "execution_count": 20,
   "outputs": [
    {
     "data": {
      "text/plain": "          BMI     Sleep  SoundSleep  Pregancies  Age_40-49  Age_50-59  \\\n0    0.582090  0.119403    0.089552    0.000000   0.000000   0.014925   \n1    0.500000  0.142857    0.107143    0.000000   0.000000   0.017857   \n2    0.480000  0.120000    0.120000    0.000000   0.020000   0.000000   \n3    0.450980  0.156863    0.117647    0.000000   0.000000   0.019608   \n4    0.473684  0.140351    0.140351    0.000000   0.017544   0.000000   \n..        ...       ...         ...         ...        ...        ...   \n947  0.471698  0.150943    0.113208    0.000000   0.000000   0.000000   \n948  0.519231  0.115385    0.096154    0.000000   0.000000   0.000000   \n949  0.479167  0.125000    0.104167    0.000000   0.000000   0.000000   \n950  0.519231  0.115385    0.096154    0.000000   0.000000   0.000000   \n951  0.526316  0.122807    0.070175    0.035088   0.000000   0.000000   \n\n     Age_60 or older  Age_less than 40  Gender_Female  Gender_Male  ...  \\\n0           0.000000          0.000000       0.000000     0.014925  ...   \n1           0.000000          0.000000       0.000000     0.017857  ...   \n2           0.000000          0.000000       0.000000     0.020000  ...   \n3           0.000000          0.000000       0.000000     0.019608  ...   \n4           0.000000          0.000000       0.000000     0.017544  ...   \n..               ...               ...            ...          ...  ...   \n947         0.000000          0.018868       0.000000     0.018868  ...   \n948         0.019231          0.000000       0.000000     0.019231  ...   \n949         0.020833          0.000000       0.000000     0.020833  ...   \n950         0.019231          0.000000       0.000000     0.019231  ...   \n951         0.017544          0.000000       0.017544     0.000000  ...   \n\n     BPLevel_high  BPLevel_low  BPLevel_normal  Pdiabetes_0  Pdiabetes_no  \\\n0        0.014925          0.0        0.000000     0.014925           0.0   \n1        0.000000          0.0        0.017857     0.017857           0.0   \n2        0.000000          0.0        0.020000     0.020000           0.0   \n3        0.000000          0.0        0.019608     0.019608           0.0   \n4        0.000000          0.0        0.017544     0.017544           0.0   \n..            ...          ...             ...          ...           ...   \n947      0.000000          0.0        0.018868     0.018868           0.0   \n948      0.019231          0.0        0.000000     0.019231           0.0   \n949      0.020833          0.0        0.000000     0.020833           0.0   \n950      0.019231          0.0        0.000000     0.019231           0.0   \n951      0.017544          0.0        0.000000     0.017544           0.0   \n\n     Pdiabetes_yes  UriationFreq_not much  UriationFreq_quite often  \\\n0              0.0               0.014925                  0.000000   \n1              0.0               0.017857                  0.000000   \n2              0.0               0.020000                  0.000000   \n3              0.0               0.019608                  0.000000   \n4              0.0               0.017544                  0.000000   \n..             ...                    ...                       ...   \n947            0.0               0.018868                  0.000000   \n948            0.0               0.000000                  0.019231   \n949            0.0               0.020833                  0.000000   \n950            0.0               0.019231                  0.000000   \n951            0.0               0.000000                  0.017544   \n\n     Diabetic_no  Diabetic_yes  \n0       0.014925      0.000000  \n1       0.017857      0.000000  \n2       0.020000      0.000000  \n3       0.019608      0.000000  \n4       0.017544      0.000000  \n..           ...           ...  \n947     0.000000      0.018868  \n948     0.000000      0.019231  \n949     0.020833      0.000000  \n950     0.019231      0.000000  \n951     0.000000      0.017544  \n\n[952 rows x 42 columns]",
      "text/html": "<div>\n<style scoped>\n    .dataframe tbody tr th:only-of-type {\n        vertical-align: middle;\n    }\n\n    .dataframe tbody tr th {\n        vertical-align: top;\n    }\n\n    .dataframe thead th {\n        text-align: right;\n    }\n</style>\n<table border=\"1\" class=\"dataframe\">\n  <thead>\n    <tr style=\"text-align: right;\">\n      <th></th>\n      <th>BMI</th>\n      <th>Sleep</th>\n      <th>SoundSleep</th>\n      <th>Pregancies</th>\n      <th>Age_40-49</th>\n      <th>Age_50-59</th>\n      <th>Age_60 or older</th>\n      <th>Age_less than 40</th>\n      <th>Gender_Female</th>\n      <th>Gender_Male</th>\n      <th>...</th>\n      <th>BPLevel_high</th>\n      <th>BPLevel_low</th>\n      <th>BPLevel_normal</th>\n      <th>Pdiabetes_0</th>\n      <th>Pdiabetes_no</th>\n      <th>Pdiabetes_yes</th>\n      <th>UriationFreq_not much</th>\n      <th>UriationFreq_quite often</th>\n      <th>Diabetic_no</th>\n      <th>Diabetic_yes</th>\n    </tr>\n  </thead>\n  <tbody>\n    <tr>\n      <th>0</th>\n      <td>0.582090</td>\n      <td>0.119403</td>\n      <td>0.089552</td>\n      <td>0.000000</td>\n      <td>0.000000</td>\n      <td>0.014925</td>\n      <td>0.000000</td>\n      <td>0.000000</td>\n      <td>0.000000</td>\n      <td>0.014925</td>\n      <td>...</td>\n      <td>0.014925</td>\n      <td>0.0</td>\n      <td>0.000000</td>\n      <td>0.014925</td>\n      <td>0.0</td>\n      <td>0.0</td>\n      <td>0.014925</td>\n      <td>0.000000</td>\n      <td>0.014925</td>\n      <td>0.000000</td>\n    </tr>\n    <tr>\n      <th>1</th>\n      <td>0.500000</td>\n      <td>0.142857</td>\n      <td>0.107143</td>\n      <td>0.000000</td>\n      <td>0.000000</td>\n      <td>0.017857</td>\n      <td>0.000000</td>\n      <td>0.000000</td>\n      <td>0.000000</td>\n      <td>0.017857</td>\n      <td>...</td>\n      <td>0.000000</td>\n      <td>0.0</td>\n      <td>0.017857</td>\n      <td>0.017857</td>\n      <td>0.0</td>\n      <td>0.0</td>\n      <td>0.017857</td>\n      <td>0.000000</td>\n      <td>0.017857</td>\n      <td>0.000000</td>\n    </tr>\n    <tr>\n      <th>2</th>\n      <td>0.480000</td>\n      <td>0.120000</td>\n      <td>0.120000</td>\n      <td>0.000000</td>\n      <td>0.020000</td>\n      <td>0.000000</td>\n      <td>0.000000</td>\n      <td>0.000000</td>\n      <td>0.000000</td>\n      <td>0.020000</td>\n      <td>...</td>\n      <td>0.000000</td>\n      <td>0.0</td>\n      <td>0.020000</td>\n      <td>0.020000</td>\n      <td>0.0</td>\n      <td>0.0</td>\n      <td>0.020000</td>\n      <td>0.000000</td>\n      <td>0.020000</td>\n      <td>0.000000</td>\n    </tr>\n    <tr>\n      <th>3</th>\n      <td>0.450980</td>\n      <td>0.156863</td>\n      <td>0.117647</td>\n      <td>0.000000</td>\n      <td>0.000000</td>\n      <td>0.019608</td>\n      <td>0.000000</td>\n      <td>0.000000</td>\n      <td>0.000000</td>\n      <td>0.019608</td>\n      <td>...</td>\n      <td>0.000000</td>\n      <td>0.0</td>\n      <td>0.019608</td>\n      <td>0.019608</td>\n      <td>0.0</td>\n      <td>0.0</td>\n      <td>0.019608</td>\n      <td>0.000000</td>\n      <td>0.019608</td>\n      <td>0.000000</td>\n    </tr>\n    <tr>\n      <th>4</th>\n      <td>0.473684</td>\n      <td>0.140351</td>\n      <td>0.140351</td>\n      <td>0.000000</td>\n      <td>0.017544</td>\n      <td>0.000000</td>\n      <td>0.000000</td>\n      <td>0.000000</td>\n      <td>0.000000</td>\n      <td>0.017544</td>\n      <td>...</td>\n      <td>0.000000</td>\n      <td>0.0</td>\n      <td>0.017544</td>\n      <td>0.017544</td>\n      <td>0.0</td>\n      <td>0.0</td>\n      <td>0.017544</td>\n      <td>0.000000</td>\n      <td>0.017544</td>\n      <td>0.000000</td>\n    </tr>\n    <tr>\n      <th>...</th>\n      <td>...</td>\n      <td>...</td>\n      <td>...</td>\n      <td>...</td>\n      <td>...</td>\n      <td>...</td>\n      <td>...</td>\n      <td>...</td>\n      <td>...</td>\n      <td>...</td>\n      <td>...</td>\n      <td>...</td>\n      <td>...</td>\n      <td>...</td>\n      <td>...</td>\n      <td>...</td>\n      <td>...</td>\n      <td>...</td>\n      <td>...</td>\n      <td>...</td>\n      <td>...</td>\n    </tr>\n    <tr>\n      <th>947</th>\n      <td>0.471698</td>\n      <td>0.150943</td>\n      <td>0.113208</td>\n      <td>0.000000</td>\n      <td>0.000000</td>\n      <td>0.000000</td>\n      <td>0.000000</td>\n      <td>0.018868</td>\n      <td>0.000000</td>\n      <td>0.018868</td>\n      <td>...</td>\n      <td>0.000000</td>\n      <td>0.0</td>\n      <td>0.018868</td>\n      <td>0.018868</td>\n      <td>0.0</td>\n      <td>0.0</td>\n      <td>0.018868</td>\n      <td>0.000000</td>\n      <td>0.000000</td>\n      <td>0.018868</td>\n    </tr>\n    <tr>\n      <th>948</th>\n      <td>0.519231</td>\n      <td>0.115385</td>\n      <td>0.096154</td>\n      <td>0.000000</td>\n      <td>0.000000</td>\n      <td>0.000000</td>\n      <td>0.019231</td>\n      <td>0.000000</td>\n      <td>0.000000</td>\n      <td>0.019231</td>\n      <td>...</td>\n      <td>0.019231</td>\n      <td>0.0</td>\n      <td>0.000000</td>\n      <td>0.019231</td>\n      <td>0.0</td>\n      <td>0.0</td>\n      <td>0.000000</td>\n      <td>0.019231</td>\n      <td>0.000000</td>\n      <td>0.019231</td>\n    </tr>\n    <tr>\n      <th>949</th>\n      <td>0.479167</td>\n      <td>0.125000</td>\n      <td>0.104167</td>\n      <td>0.000000</td>\n      <td>0.000000</td>\n      <td>0.000000</td>\n      <td>0.020833</td>\n      <td>0.000000</td>\n      <td>0.000000</td>\n      <td>0.020833</td>\n      <td>...</td>\n      <td>0.020833</td>\n      <td>0.0</td>\n      <td>0.000000</td>\n      <td>0.020833</td>\n      <td>0.0</td>\n      <td>0.0</td>\n      <td>0.020833</td>\n      <td>0.000000</td>\n      <td>0.020833</td>\n      <td>0.000000</td>\n    </tr>\n    <tr>\n      <th>950</th>\n      <td>0.519231</td>\n      <td>0.115385</td>\n      <td>0.096154</td>\n      <td>0.000000</td>\n      <td>0.000000</td>\n      <td>0.000000</td>\n      <td>0.019231</td>\n      <td>0.000000</td>\n      <td>0.000000</td>\n      <td>0.019231</td>\n      <td>...</td>\n      <td>0.019231</td>\n      <td>0.0</td>\n      <td>0.000000</td>\n      <td>0.019231</td>\n      <td>0.0</td>\n      <td>0.0</td>\n      <td>0.019231</td>\n      <td>0.000000</td>\n      <td>0.019231</td>\n      <td>0.000000</td>\n    </tr>\n    <tr>\n      <th>951</th>\n      <td>0.526316</td>\n      <td>0.122807</td>\n      <td>0.070175</td>\n      <td>0.035088</td>\n      <td>0.000000</td>\n      <td>0.000000</td>\n      <td>0.017544</td>\n      <td>0.000000</td>\n      <td>0.017544</td>\n      <td>0.000000</td>\n      <td>...</td>\n      <td>0.017544</td>\n      <td>0.0</td>\n      <td>0.000000</td>\n      <td>0.017544</td>\n      <td>0.0</td>\n      <td>0.0</td>\n      <td>0.000000</td>\n      <td>0.017544</td>\n      <td>0.000000</td>\n      <td>0.017544</td>\n    </tr>\n  </tbody>\n</table>\n<p>952 rows × 42 columns</p>\n</div>"
     },
     "execution_count": 20,
     "metadata": {},
     "output_type": "execute_result"
    }
   ],
   "source": [
    "# com base na soma de cada linha dividimos a mesma\n",
    "X = df_d.div( df_d.sum(axis=1), axis='rows' )\n",
    "X"
   ],
   "metadata": {
    "collapsed": false,
    "pycharm": {
     "name": "#%%\n"
    }
   }
  },
  {
   "cell_type": "markdown",
   "source": [],
   "metadata": {
    "collapsed": false,
    "pycharm": {
     "name": "#%% md\n"
    }
   }
  },
  {
   "cell_type": "markdown",
   "source": [
    "## Grouping"
   ],
   "metadata": {
    "collapsed": false
   }
  },
  {
   "cell_type": "code",
   "execution_count": 21,
   "outputs": [
    {
     "data": {
      "text/plain": "array([5, 1, 1, 3, 1, 4, 4, 4, 3, 4, 4, 1, 3, 4, 4, 2, 3, 1, 4, 4, 1, 2,\n       2, 0, 4, 4, 4, 1, 2, 0, 1, 0, 2, 2, 3, 4, 3, 3, 3, 3, 1, 1, 5, 3,\n       3, 3, 5, 5, 5, 2, 3, 7, 3, 1, 2, 2, 4, 6, 3, 4, 4, 6, 4, 4, 6, 3,\n       3, 2, 2, 2, 3, 0, 3, 2, 2, 3, 3, 3, 6, 2, 1, 3, 3, 6, 6, 1, 7, 3,\n       6, 7, 7, 1, 4, 4, 6, 1, 3, 7, 4, 1, 1, 1, 4, 0, 0, 3, 3, 2, 2, 4,\n       2, 6, 2, 1, 1, 7, 6, 7, 7, 7, 3, 2, 1, 6, 5, 6, 1, 2, 0, 3, 6, 1,\n       3, 6, 4, 1, 4, 1, 4, 4, 4, 1, 6, 6, 6, 6, 5, 6, 1, 1, 6, 6, 6, 6,\n       6, 6, 6, 5, 6, 6, 6, 6, 5, 5, 5, 5, 5, 6, 5, 5, 6, 5, 5, 5, 6, 5,\n       6, 6, 0, 3, 0, 3, 3, 4, 4, 4, 1, 4, 1, 1, 4, 1, 4, 4, 1, 1, 1, 4,\n       4, 6, 7, 7, 1, 6, 1, 4, 7, 7, 6, 7, 1, 6, 4, 1, 1, 6, 0, 1, 4, 3,\n       1, 1, 2, 5, 5, 5, 5, 5, 5, 1, 3, 1, 3, 4, 2, 3, 2, 2, 5, 1, 1, 3,\n       3, 4, 4, 4, 3, 4, 4, 1, 3, 4, 4, 2, 3, 1, 4, 4, 1, 2, 2, 0, 4, 4,\n       4, 1, 2, 0, 1, 0, 2, 2, 3, 4, 3, 3, 3, 3, 1, 1, 5, 3, 3, 3, 5, 5,\n       5, 2, 3, 7, 3, 1, 2, 2, 4, 6, 3, 4, 4, 6, 4, 4, 6, 3, 3, 2, 2, 2,\n       3, 0, 3, 2, 2, 3, 3, 3, 6, 2, 1, 3, 3, 6, 6, 1, 7, 3, 6, 7, 7, 1,\n       4, 4, 6, 1, 3, 7, 4, 1, 1, 1, 4, 0, 0, 3, 3, 2, 2, 4, 2, 6, 2, 1,\n       1, 7, 1, 7, 7, 7, 3, 2, 1, 6, 5, 6, 1, 2, 0, 3, 6, 1, 3, 6, 4, 1,\n       4, 1, 4, 4, 4, 1, 6, 6, 6, 6, 5, 6, 1, 1, 6, 6, 6, 6, 6, 6, 6, 5,\n       6, 6, 6, 6, 5, 5, 5, 5, 5, 6, 5, 5, 6, 5, 5, 5, 6, 5, 6, 6, 0, 3,\n       0, 3, 3, 4, 4, 4, 1, 4, 1, 1, 4, 1, 4, 4, 1, 1, 1, 4, 4, 6, 7, 7,\n       1, 6, 1, 4, 7, 7, 6, 7, 1, 6, 4, 1, 1, 6, 0, 1, 4, 3, 1, 1, 2, 5,\n       5, 5, 5, 5, 5, 1, 3, 1, 3, 4, 2, 3, 2, 2, 5, 1, 1, 3, 1, 4, 4, 4,\n       3, 4, 4, 1, 3, 4, 4, 2, 3, 1, 4, 4, 1, 2, 2, 0, 4, 4, 4, 1, 2, 0,\n       1, 0, 2, 2, 3, 4, 3, 3, 3, 3, 1, 1, 5, 3, 3, 3, 5, 5, 5, 2, 3, 7,\n       3, 1, 2, 2, 4, 6, 3, 4, 4, 2, 4, 4, 6, 3, 3, 2, 2, 2, 3, 0, 3, 2,\n       2, 3, 3, 3, 6, 2, 1, 3, 3, 6, 6, 1, 7, 3, 6, 7, 7, 1, 4, 4, 6, 1,\n       3, 7, 4, 1, 1, 1, 4, 0, 0, 3, 3, 2, 2, 4, 2, 6, 2, 1, 1, 7, 1, 7,\n       7, 7, 3, 2, 1, 6, 5, 6, 1, 2, 0, 3, 6, 1, 3, 6, 4, 1, 4, 1, 4, 4,\n       4, 1, 6, 6, 6, 6, 5, 6, 1, 1, 6, 6, 6, 6, 6, 6, 6, 5, 6, 6, 6, 6,\n       5, 5, 5, 5, 5, 6, 5, 5, 6, 5, 5, 5, 6, 5, 6, 6, 0, 3, 0, 3, 3, 4,\n       4, 4, 1, 4, 1, 1, 4, 1, 4, 4, 1, 1, 1, 4, 4, 6, 7, 7, 1, 6, 1, 4,\n       7, 7, 6, 7, 1, 6, 4, 1, 1, 6, 0, 1, 4, 3, 1, 1, 2, 5, 5, 5, 5, 5,\n       5, 1, 3, 1, 3, 4, 2, 3, 2, 2, 5, 1, 1, 3, 1, 4, 4, 4, 3, 4, 4, 1,\n       3, 4, 4, 2, 3, 1, 4, 4, 1, 2, 2, 0, 4, 4, 4, 1, 2, 0, 1, 0, 2, 2,\n       3, 4, 3, 3, 3, 3, 1, 1, 5, 3, 3, 3, 5, 5, 5, 2, 3, 7, 3, 1, 2, 2,\n       4, 6, 3, 4, 4, 6, 4, 4, 6, 3, 3, 2, 2, 2, 3, 0, 3, 2, 2, 3, 3, 3,\n       6, 2, 1, 3, 3, 6, 6, 1, 7, 3, 6, 7, 7, 1, 4, 4, 6, 1, 3, 7, 4, 1,\n       1, 1, 4, 0, 0, 3, 3, 2, 2, 4, 2, 6, 2, 1, 1, 7, 1, 7, 7, 7, 3, 2,\n       1, 6, 5, 6, 1, 2, 0, 3, 6, 1, 3, 6, 4, 1, 4, 1, 4, 4, 4, 1, 6, 6,\n       6, 6, 5, 6, 1, 1, 6, 6, 6, 6, 6, 6, 6, 5, 6, 6, 6, 6, 5, 5, 5, 5,\n       5, 6, 5, 5, 6, 5, 5, 5, 6, 5, 6, 6, 0, 3, 0, 3, 3, 4, 4, 4, 1, 4,\n       1, 1, 4, 1, 4, 4, 1, 1, 1, 4, 4, 6, 7, 7, 1, 6, 1, 4, 7, 7, 6, 7,\n       1, 6, 4, 1, 1, 6, 0, 1, 4, 3, 1, 1, 2, 5, 5, 5, 5, 5, 5, 1, 3, 1,\n       3, 1, 2, 3, 2, 2])"
     },
     "execution_count": 21,
     "metadata": {},
     "output_type": "execute_result"
    }
   ],
   "source": [
    "from sklearn.cluster import KMeans\n",
    "\n",
    "km = KMeans(n_clusters=8)\n",
    "km.fit_predict(X)"
   ],
   "metadata": {
    "collapsed": false,
    "pycharm": {
     "name": "#%%\n"
    }
   }
  },
  {
   "cell_type": "code",
   "execution_count": 25,
   "outputs": [
    {
     "name": "stdout",
     "output_type": "stream",
     "text": [
      "2\n",
      "3\n",
      "4\n",
      "5\n",
      "6\n",
      "7\n",
      "8\n",
      "9\n",
      "10\n",
      "11\n",
      "12\n",
      "13\n",
      "14\n"
     ]
    }
   ],
   "source": [
    "# calcular o melhor número de cluster\n",
    "# gráfico de cotovelo | temos que pegar o valor presente no cotovelo do gráfico\n",
    "\n",
    "distortions = []\n",
    "n_clusters = range(2, 15)\n",
    "for n_clus in n_clusters:\n",
    "    print(n_clus)\n",
    "    # inertia_: retorna a distancia entre os clusters\n",
    "    distortions.append(KMeans(n_clusters=n_clus, max_iter=10_000, n_init=100, random_state=61658).fit(X).inertia_)"
   ],
   "metadata": {
    "collapsed": false,
    "pycharm": {
     "name": "#%%\n"
    }
   }
  },
  {
   "cell_type": "code",
   "execution_count": 26,
   "outputs": [
    {
     "data": {
      "text/plain": "[4.547971422987054,\n 3.7519605493165797,\n 3.4098867556884325,\n 3.2234223249550955,\n 3.072613776202291,\n 2.92220545988138,\n 2.79613225073551,\n 2.6908389784288405,\n 2.5986259255949333,\n 2.5047024179854995,\n 2.4509126521284657,\n 2.406182657679164,\n 2.35999427164756]"
     },
     "execution_count": 26,
     "metadata": {},
     "output_type": "execute_result"
    }
   ],
   "source": [
    "distortions"
   ],
   "metadata": {
    "collapsed": false,
    "pycharm": {
     "name": "#%%\n"
    }
   }
  },
  {
   "cell_type": "code",
   "execution_count": 27,
   "outputs": [
    {
     "data": {
      "text/plain": "<Figure size 1080x360 with 1 Axes>",
      "image/png": "[encoded data removed]"
     },
     "metadata": {
      "needs_background": "light"
     },
     "output_type": "display_data"
    }
   ],
   "source": [
    "# grafico de cotovelo\n",
    "# pegamos o valor contido no cotovelo do gráfico para escolher o número de clusters\n",
    "\n",
    "plt.figure(figsize=(15,5))\n",
    "plt.plot(n_clusters, distortions)\n",
    "plt.grid()"
   ],
   "metadata": {
    "collapsed": false,
    "pycharm": {
     "name": "#%%\n"
    }
   }
  },
  {
   "cell_type": "code",
   "execution_count": 29,
   "outputs": [
    {
     "data": {
      "text/plain": "array([2, 1, 0, 0, 0, 3, 0, 3, 0, 3, 3, 0, 0, 3, 3, 1, 0, 0, 3, 0, 0, 1,\n       1, 3, 0, 3, 0, 1, 1, 3, 1, 3, 1, 1, 0, 3, 1, 0, 0, 0, 1, 0, 2, 0,\n       0, 0, 2, 2, 2, 1, 0, 0, 0, 0, 1, 1, 3, 1, 0, 3, 3, 1, 3, 3, 1, 0,\n       0, 1, 1, 1, 1, 3, 0, 2, 1, 0, 0, 0, 1, 1, 0, 0, 0, 2, 1, 0, 0, 0,\n       1, 1, 0, 0, 0, 3, 1, 1, 0, 0, 3, 1, 0, 0, 0, 3, 3, 0, 0, 1, 1, 0,\n       1, 2, 1, 1, 0, 0, 1, 0, 0, 0, 0, 1, 1, 2, 2, 2, 0, 1, 3, 0, 1, 1,\n       0, 1, 0, 0, 3, 1, 3, 3, 0, 0, 1, 2, 2, 2, 2, 2, 0, 1, 1, 1, 1, 2,\n       2, 2, 2, 2, 2, 1, 1, 2, 2, 2, 2, 2, 2, 2, 2, 2, 2, 2, 2, 2, 2, 2,\n       2, 2, 3, 0, 3, 0, 0, 3, 3, 3, 1, 3, 1, 0, 0, 1, 0, 3, 0, 1, 1, 3,\n       3, 1, 0, 0, 1, 2, 1, 3, 0, 0, 1, 0, 1, 2, 0, 1, 1, 2, 3, 0, 3, 0,\n       0, 1, 2, 2, 2, 2, 2, 2, 2, 1, 0, 1, 0, 0, 1, 1, 1, 1, 2, 1, 0, 0,\n       0, 3, 0, 3, 0, 3, 3, 0, 0, 3, 3, 1, 0, 0, 3, 0, 0, 1, 1, 3, 0, 3,\n       0, 1, 1, 3, 1, 3, 1, 1, 0, 3, 1, 0, 0, 0, 1, 0, 2, 0, 0, 0, 2, 2,\n       2, 1, 0, 0, 0, 0, 1, 1, 3, 1, 0, 3, 3, 1, 3, 3, 1, 0, 0, 1, 1, 1,\n       1, 3, 0, 2, 1, 0, 0, 0, 1, 1, 0, 0, 0, 2, 1, 0, 0, 0, 1, 1, 0, 0,\n       0, 3, 1, 1, 0, 0, 3, 1, 0, 0, 0, 3, 3, 0, 0, 1, 1, 0, 1, 2, 1, 1,\n       0, 0, 1, 0, 0, 0, 0, 1, 1, 2, 2, 2, 0, 1, 3, 0, 1, 1, 0, 1, 0, 0,\n       3, 1, 3, 3, 0, 0, 1, 2, 2, 2, 2, 2, 0, 1, 1, 1, 1, 2, 2, 2, 2, 2,\n       2, 1, 1, 2, 2, 2, 2, 2, 2, 2, 2, 2, 2, 2, 2, 2, 2, 2, 2, 2, 3, 0,\n       3, 0, 0, 3, 3, 3, 1, 3, 1, 0, 0, 1, 0, 3, 0, 1, 1, 3, 3, 1, 0, 0,\n       1, 2, 1, 3, 0, 0, 1, 0, 1, 2, 0, 1, 1, 2, 3, 0, 3, 0, 0, 1, 2, 2,\n       2, 2, 2, 2, 2, 1, 0, 1, 0, 0, 1, 1, 1, 1, 2, 1, 0, 0, 0, 3, 0, 3,\n       0, 3, 3, 0, 0, 3, 3, 1, 0, 0, 3, 0, 0, 1, 1, 3, 0, 3, 0, 1, 1, 3,\n       1, 3, 1, 1, 0, 3, 1, 0, 0, 0, 1, 0, 2, 0, 0, 0, 2, 2, 2, 1, 0, 0,\n       0, 0, 1, 1, 3, 1, 0, 3, 3, 1, 3, 3, 1, 0, 0, 1, 1, 1, 1, 3, 0, 2,\n       1, 0, 0, 0, 1, 1, 0, 0, 0, 2, 1, 0, 0, 0, 1, 1, 0, 0, 0, 3, 1, 1,\n       0, 0, 3, 1, 0, 0, 0, 3, 3, 0, 0, 1, 1, 0, 1, 2, 1, 1, 0, 0, 1, 0,\n       0, 0, 0, 1, 1, 2, 2, 2, 0, 1, 3, 0, 1, 1, 0, 1, 0, 0, 3, 1, 3, 3,\n       0, 0, 1, 2, 2, 2, 2, 2, 0, 1, 1, 1, 1, 2, 2, 2, 2, 2, 2, 1, 1, 2,\n       2, 2, 2, 2, 2, 2, 2, 2, 2, 2, 2, 2, 2, 2, 2, 2, 3, 0, 3, 0, 0, 3,\n       3, 3, 1, 3, 1, 0, 0, 1, 0, 3, 0, 1, 1, 3, 3, 1, 0, 0, 1, 2, 1, 3,\n       0, 0, 1, 0, 1, 2, 0, 1, 1, 2, 3, 0, 3, 0, 0, 1, 2, 2, 2, 2, 2, 2,\n       2, 1, 0, 1, 0, 0, 1, 1, 1, 1, 2, 1, 0, 0, 0, 3, 0, 3, 0, 3, 3, 0,\n       0, 3, 3, 1, 0, 0, 3, 0, 0, 1, 1, 3, 0, 3, 0, 1, 1, 3, 1, 3, 1, 1,\n       0, 3, 1, 0, 0, 0, 1, 0, 2, 0, 0, 0, 2, 2, 2, 1, 0, 0, 0, 0, 1, 1,\n       3, 1, 0, 3, 3, 1, 3, 3, 1, 0, 0, 1, 1, 1, 1, 3, 0, 2, 1, 0, 0, 0,\n       1, 1, 0, 0, 0, 2, 1, 0, 0, 0, 1, 1, 0, 0, 0, 3, 1, 1, 0, 0, 3, 1,\n       0, 0, 0, 3, 3, 0, 0, 1, 1, 0, 1, 2, 1, 1, 0, 0, 1, 0, 0, 0, 0, 1,\n       1, 2, 2, 2, 0, 1, 3, 0, 1, 1, 0, 1, 0, 0, 3, 1, 3, 3, 0, 0, 1, 2,\n       2, 2, 2, 2, 0, 1, 1, 1, 1, 2, 2, 2, 2, 2, 2, 1, 1, 2, 2, 2, 2, 2,\n       2, 2, 2, 2, 2, 2, 2, 2, 2, 2, 2, 2, 3, 0, 3, 0, 0, 3, 3, 3, 1, 3,\n       1, 0, 0, 1, 0, 3, 0, 1, 1, 3, 3, 1, 0, 0, 1, 2, 1, 3, 0, 0, 2, 0,\n       1, 2, 0, 1, 1, 2, 3, 0, 3, 0, 0, 1, 2, 2, 2, 2, 2, 2, 2, 1, 0, 1,\n       0, 0, 1, 1, 1, 1])"
     },
     "execution_count": 29,
     "metadata": {},
     "output_type": "execute_result"
    }
   ],
   "source": [
    "km = KMeans(n_clusters=4, max_iter=10_000, n_init=100, random_state=61658)\n",
    "X_t = km.fit_predict(X)\n",
    "X_t"
   ],
   "metadata": {
    "collapsed": false,
    "pycharm": {
     "name": "#%%\n"
    }
   }
  },
  {
   "cell_type": "code",
   "execution_count": 30,
   "outputs": [
    {
     "data": {
      "text/plain": "              Age  Gender Family_Diabetes highBP      PhysicallyActive   BMI  \\\n0           50-59    Male              no    yes        one hr or more  39.0   \n1           50-59    Male              no    yes  less than half an hr  28.0   \n2           40-49    Male              no     no        one hr or more  24.0   \n3           50-59    Male              no     no        one hr or more  23.0   \n4           40-49    Male              no     no  less than half an hr  27.0   \n..            ...     ...             ...    ...                   ...   ...   \n947  less than 40    Male             yes     no  more than half an hr  25.0   \n948   60 or older    Male             yes    yes  more than half an hr  27.0   \n949   60 or older    Male              no    yes                  none  23.0   \n950   60 or older    Male              no    yes  less than half an hr  27.0   \n951   60 or older  Female             yes    yes        one hr or more  30.0   \n\n    Smoking Alcohol  Sleep  SoundSleep RegularMedicine      JunkFood  \\\n0        no      no      8           6              no  occasionally   \n1        no      no      8           6             yes    very often   \n2        no      no      6           6              no  occasionally   \n3        no      no      8           6              no  occasionally   \n4        no      no      8           8              no  occasionally   \n..      ...     ...    ...         ...             ...           ...   \n947      no      no      8           6              no         often   \n948      no      no      6           5             yes  occasionally   \n949      no      no      6           5             yes  occasionally   \n950      no     yes      6           5             yes  occasionally   \n951      no      no      7           4             yes  occasionally   \n\n         Stress BPLevel  Pregancies Pdiabetes UriationFreq Diabetic  clus  \n0     sometimes    high         0.0         0     not much       no     2  \n1     sometimes  normal         0.0         0     not much       no     1  \n2     sometimes  normal         0.0         0     not much       no     0  \n3     sometimes  normal         0.0         0     not much       no     0  \n4     sometimes  normal         0.0         0     not much       no     0  \n..          ...     ...         ...       ...          ...      ...   ...  \n947   sometimes  normal         0.0         0     not much      yes     0  \n948   sometimes    high         0.0         0  quite often      yes     1  \n949   sometimes    high         0.0         0     not much       no     1  \n950  very often    high         0.0         0     not much       no     1  \n951   sometimes    high         2.0         0  quite often      yes     1  \n\n[952 rows x 19 columns]",
      "text/html": "<div>\n<style scoped>\n    .dataframe tbody tr th:only-of-type {\n        vertical-align: middle;\n    }\n\n    .dataframe tbody tr th {\n        vertical-align: top;\n    }\n\n    .dataframe thead th {\n        text-align: right;\n    }\n</style>\n<table border=\"1\" class=\"dataframe\">\n  <thead>\n    <tr style=\"text-align: right;\">\n      <th></th>\n      <th>Age</th>\n      <th>Gender</th>\n      <th>Family_Diabetes</th>\n      <th>highBP</th>\n      <th>PhysicallyActive</th>\n      <th>BMI</th>\n      <th>Smoking</th>\n      <th>Alcohol</th>\n      <th>Sleep</th>\n      <th>SoundSleep</th>\n      <th>RegularMedicine</th>\n      <th>JunkFood</th>\n      <th>Stress</th>\n      <th>BPLevel</th>\n      <th>Pregancies</th>\n      <th>Pdiabetes</th>\n      <th>UriationFreq</th>\n      <th>Diabetic</th>\n      <th>clus</th>\n    </tr>\n  </thead>\n  <tbody>\n    <tr>\n      <th>0</th>\n      <td>50-59</td>\n      <td>Male</td>\n      <td>no</td>\n      <td>yes</td>\n      <td>one hr or more</td>\n      <td>39.0</td>\n      <td>no</td>\n      <td>no</td>\n      <td>8</td>\n      <td>6</td>\n      <td>no</td>\n      <td>occasionally</td>\n      <td>sometimes</td>\n      <td>high</td>\n      <td>0.0</td>\n      <td>0</td>\n      <td>not much</td>\n      <td>no</td>\n      <td>2</td>\n    </tr>\n    <tr>\n      <th>1</th>\n      <td>50-59</td>\n      <td>Male</td>\n      <td>no</td>\n      <td>yes</td>\n      <td>less than half an hr</td>\n      <td>28.0</td>\n      <td>no</td>\n      <td>no</td>\n      <td>8</td>\n      <td>6</td>\n      <td>yes</td>\n      <td>very often</td>\n      <td>sometimes</td>\n      <td>normal</td>\n      <td>0.0</td>\n      <td>0</td>\n      <td>not much</td>\n      <td>no</td>\n      <td>1</td>\n    </tr>\n    <tr>\n      <th>2</th>\n      <td>40-49</td>\n      <td>Male</td>\n      <td>no</td>\n      <td>no</td>\n      <td>one hr or more</td>\n      <td>24.0</td>\n      <td>no</td>\n      <td>no</td>\n      <td>6</td>\n      <td>6</td>\n      <td>no</td>\n      <td>occasionally</td>\n      <td>sometimes</td>\n      <td>normal</td>\n      <td>0.0</td>\n      <td>0</td>\n      <td>not much</td>\n      <td>no</td>\n      <td>0</td>\n    </tr>\n    <tr>\n      <th>3</th>\n      <td>50-59</td>\n      <td>Male</td>\n      <td>no</td>\n      <td>no</td>\n      <td>one hr or more</td>\n      <td>23.0</td>\n      <td>no</td>\n      <td>no</td>\n      <td>8</td>\n      <td>6</td>\n      <td>no</td>\n      <td>occasionally</td>\n      <td>sometimes</td>\n      <td>normal</td>\n      <td>0.0</td>\n      <td>0</td>\n      <td>not much</td>\n      <td>no</td>\n      <td>0</td>\n    </tr>\n    <tr>\n      <th>4</th>\n      <td>40-49</td>\n      <td>Male</td>\n      <td>no</td>\n      <td>no</td>\n      <td>less than half an hr</td>\n      <td>27.0</td>\n      <td>no</td>\n      <td>no</td>\n      <td>8</td>\n      <td>8</td>\n      <td>no</td>\n      <td>occasionally</td>\n      <td>sometimes</td>\n      <td>normal</td>\n      <td>0.0</td>\n      <td>0</td>\n      <td>not much</td>\n      <td>no</td>\n      <td>0</td>\n    </tr>\n    <tr>\n      <th>...</th>\n      <td>...</td>\n      <td>...</td>\n      <td>...</td>\n      <td>...</td>\n      <td>...</td>\n      <td>...</td>\n      <td>...</td>\n      <td>...</td>\n      <td>...</td>\n      <td>...</td>\n      <td>...</td>\n      <td>...</td>\n      <td>...</td>\n      <td>...</td>\n      <td>...</td>\n      <td>...</td>\n      <td>...</td>\n      <td>...</td>\n      <td>...</td>\n    </tr>\n    <tr>\n      <th>947</th>\n      <td>less than 40</td>\n      <td>Male</td>\n      <td>yes</td>\n      <td>no</td>\n      <td>more than half an hr</td>\n      <td>25.0</td>\n      <td>no</td>\n      <td>no</td>\n      <td>8</td>\n      <td>6</td>\n      <td>no</td>\n      <td>often</td>\n      <td>sometimes</td>\n      <td>normal</td>\n      <td>0.0</td>\n      <td>0</td>\n      <td>not much</td>\n      <td>yes</td>\n      <td>0</td>\n    </tr>\n    <tr>\n      <th>948</th>\n      <td>60 or older</td>\n      <td>Male</td>\n      <td>yes</td>\n      <td>yes</td>\n      <td>more than half an hr</td>\n      <td>27.0</td>\n      <td>no</td>\n      <td>no</td>\n      <td>6</td>\n      <td>5</td>\n      <td>yes</td>\n      <td>occasionally</td>\n      <td>sometimes</td>\n      <td>high</td>\n      <td>0.0</td>\n      <td>0</td>\n      <td>quite often</td>\n      <td>yes</td>\n      <td>1</td>\n    </tr>\n    <tr>\n      <th>949</th>\n      <td>60 or older</td>\n      <td>Male</td>\n      <td>no</td>\n      <td>yes</td>\n      <td>none</td>\n      <td>23.0</td>\n      <td>no</td>\n      <td>no</td>\n      <td>6</td>\n      <td>5</td>\n      <td>yes</td>\n      <td>occasionally</td>\n      <td>sometimes</td>\n      <td>high</td>\n      <td>0.0</td>\n      <td>0</td>\n      <td>not much</td>\n      <td>no</td>\n      <td>1</td>\n    </tr>\n    <tr>\n      <th>950</th>\n      <td>60 or older</td>\n      <td>Male</td>\n      <td>no</td>\n      <td>yes</td>\n      <td>less than half an hr</td>\n      <td>27.0</td>\n      <td>no</td>\n      <td>yes</td>\n      <td>6</td>\n      <td>5</td>\n      <td>yes</td>\n      <td>occasionally</td>\n      <td>very often</td>\n      <td>high</td>\n      <td>0.0</td>\n      <td>0</td>\n      <td>not much</td>\n      <td>no</td>\n      <td>1</td>\n    </tr>\n    <tr>\n      <th>951</th>\n      <td>60 or older</td>\n      <td>Female</td>\n      <td>yes</td>\n      <td>yes</td>\n      <td>one hr or more</td>\n      <td>30.0</td>\n      <td>no</td>\n      <td>no</td>\n      <td>7</td>\n      <td>4</td>\n      <td>yes</td>\n      <td>occasionally</td>\n      <td>sometimes</td>\n      <td>high</td>\n      <td>2.0</td>\n      <td>0</td>\n      <td>quite often</td>\n      <td>yes</td>\n      <td>1</td>\n    </tr>\n  </tbody>\n</table>\n<p>952 rows × 19 columns</p>\n</div>"
     },
     "execution_count": 30,
     "metadata": {},
     "output_type": "execute_result"
    }
   ],
   "source": [
    "# adicionando o resultado no nosso dataset\n",
    "df.loc[:, 'clus'] = X_t\n",
    "df"
   ],
   "metadata": {
    "collapsed": false,
    "pycharm": {
     "name": "#%%\n"
    }
   }
  },
  {
   "cell_type": "code",
   "execution_count": 32,
   "outputs": [
    {
     "data": {
      "text/plain": "              Age  Gender Family_Diabetes highBP      PhysicallyActive   BMI  \\\n2           40-49    Male              no     no        one hr or more  24.0   \n3           50-59    Male              no     no        one hr or more  23.0   \n4           40-49    Male              no     no  less than half an hr  27.0   \n6    less than 40    Male              no     no        one hr or more  24.0   \n8           40-49    Male             yes     no        one hr or more  23.0   \n..            ...     ...             ...    ...                   ...   ...   \n933         50-59  Female             yes     no        one hr or more  23.0   \n934         40-49    Male             yes     no  less than half an hr  24.0   \n944         50-59  Female              no    yes        one hr or more  22.0   \n946         40-49    Male             yes    yes        one hr or more  22.0   \n947  less than 40    Male             yes     no  more than half an hr  25.0   \n\n    Smoking Alcohol  Sleep  SoundSleep RegularMedicine      JunkFood  \\\n2        no      no      6           6              no  occasionally   \n3        no      no      8           6              no  occasionally   \n4        no      no      8           8              no  occasionally   \n6        no      no      8           8              no  occasionally   \n8        no      no      7           7              no  occasionally   \n..      ...     ...    ...         ...             ...           ...   \n933      no      no      6           5              no  occasionally   \n934      no      no      7           5              no  occasionally   \n944      no      no      8           5             yes  occasionally   \n946      no      no      7           6             yes  occasionally   \n947      no      no      8           6              no         often   \n\n        Stress BPLevel  Pregancies Pdiabetes UriationFreq Diabetic  clus  \n2    sometimes  normal         0.0         0     not much       no     0  \n3    sometimes  normal         0.0         0     not much       no     0  \n4    sometimes  normal         0.0         0     not much       no     0  \n6    sometimes  normal         0.0         0     not much       no     0  \n8    sometimes  normal         0.0         0     not much       no     0  \n..         ...     ...         ...       ...          ...      ...   ...  \n933  sometimes    high         2.0         0     not much       no     0  \n934  sometimes  normal         0.0         0     not much       no     0  \n944     always  normal         3.0         0     not much      yes     0  \n946  sometimes    high         0.0         0     not much      yes     0  \n947  sometimes  normal         0.0         0     not much      yes     0  \n\n[328 rows x 19 columns]",
      "text/html": "<div>\n<style scoped>\n    .dataframe tbody tr th:only-of-type {\n        vertical-align: middle;\n    }\n\n    .dataframe tbody tr th {\n        vertical-align: top;\n    }\n\n    .dataframe thead th {\n        text-align: right;\n    }\n</style>\n<table border=\"1\" class=\"dataframe\">\n  <thead>\n    <tr style=\"text-align: right;\">\n      <th></th>\n      <th>Age</th>\n      <th>Gender</th>\n      <th>Family_Diabetes</th>\n      <th>highBP</th>\n      <th>PhysicallyActive</th>\n      <th>BMI</th>\n      <th>Smoking</th>\n      <th>Alcohol</th>\n      <th>Sleep</th>\n      <th>SoundSleep</th>\n      <th>RegularMedicine</th>\n      <th>JunkFood</th>\n      <th>Stress</th>\n      <th>BPLevel</th>\n      <th>Pregancies</th>\n      <th>Pdiabetes</th>\n      <th>UriationFreq</th>\n      <th>Diabetic</th>\n      <th>clus</th>\n    </tr>\n  </thead>\n  <tbody>\n    <tr>\n      <th>2</th>\n      <td>40-49</td>\n      <td>Male</td>\n      <td>no</td>\n      <td>no</td>\n      <td>one hr or more</td>\n      <td>24.0</td>\n      <td>no</td>\n      <td>no</td>\n      <td>6</td>\n      <td>6</td>\n      <td>no</td>\n      <td>occasionally</td>\n      <td>sometimes</td>\n      <td>normal</td>\n      <td>0.0</td>\n      <td>0</td>\n      <td>not much</td>\n      <td>no</td>\n      <td>0</td>\n    </tr>\n    <tr>\n      <th>3</th>\n      <td>50-59</td>\n      <td>Male</td>\n      <td>no</td>\n      <td>no</td>\n      <td>one hr or more</td>\n      <td>23.0</td>\n      <td>no</td>\n      <td>no</td>\n      <td>8</td>\n      <td>6</td>\n      <td>no</td>\n      <td>occasionally</td>\n      <td>sometimes</td>\n      <td>normal</td>\n      <td>0.0</td>\n      <td>0</td>\n      <td>not much</td>\n      <td>no</td>\n      <td>0</td>\n    </tr>\n    <tr>\n      <th>4</th>\n      <td>40-49</td>\n      <td>Male</td>\n      <td>no</td>\n      <td>no</td>\n      <td>less than half an hr</td>\n      <td>27.0</td>\n      <td>no</td>\n      <td>no</td>\n      <td>8</td>\n      <td>8</td>\n      <td>no</td>\n      <td>occasionally</td>\n      <td>sometimes</td>\n      <td>normal</td>\n      <td>0.0</td>\n      <td>0</td>\n      <td>not much</td>\n      <td>no</td>\n      <td>0</td>\n    </tr>\n    <tr>\n      <th>6</th>\n      <td>less than 40</td>\n      <td>Male</td>\n      <td>no</td>\n      <td>no</td>\n      <td>one hr or more</td>\n      <td>24.0</td>\n      <td>no</td>\n      <td>no</td>\n      <td>8</td>\n      <td>8</td>\n      <td>no</td>\n      <td>occasionally</td>\n      <td>sometimes</td>\n      <td>normal</td>\n      <td>0.0</td>\n      <td>0</td>\n      <td>not much</td>\n      <td>no</td>\n      <td>0</td>\n    </tr>\n    <tr>\n      <th>8</th>\n      <td>40-49</td>\n      <td>Male</td>\n      <td>yes</td>\n      <td>no</td>\n      <td>one hr or more</td>\n      <td>23.0</td>\n      <td>no</td>\n      <td>no</td>\n      <td>7</td>\n      <td>7</td>\n      <td>no</td>\n      <td>occasionally</td>\n      <td>sometimes</td>\n      <td>normal</td>\n      <td>0.0</td>\n      <td>0</td>\n      <td>not much</td>\n      <td>no</td>\n      <td>0</td>\n    </tr>\n    <tr>\n      <th>...</th>\n      <td>...</td>\n      <td>...</td>\n      <td>...</td>\n      <td>...</td>\n      <td>...</td>\n      <td>...</td>\n      <td>...</td>\n      <td>...</td>\n      <td>...</td>\n      <td>...</td>\n      <td>...</td>\n      <td>...</td>\n      <td>...</td>\n      <td>...</td>\n      <td>...</td>\n      <td>...</td>\n      <td>...</td>\n      <td>...</td>\n      <td>...</td>\n    </tr>\n    <tr>\n      <th>933</th>\n      <td>50-59</td>\n      <td>Female</td>\n      <td>yes</td>\n      <td>no</td>\n      <td>one hr or more</td>\n      <td>23.0</td>\n      <td>no</td>\n      <td>no</td>\n      <td>6</td>\n      <td>5</td>\n      <td>no</td>\n      <td>occasionally</td>\n      <td>sometimes</td>\n      <td>high</td>\n      <td>2.0</td>\n      <td>0</td>\n      <td>not much</td>\n      <td>no</td>\n      <td>0</td>\n    </tr>\n    <tr>\n      <th>934</th>\n      <td>40-49</td>\n      <td>Male</td>\n      <td>yes</td>\n      <td>no</td>\n      <td>less than half an hr</td>\n      <td>24.0</td>\n      <td>no</td>\n      <td>no</td>\n      <td>7</td>\n      <td>5</td>\n      <td>no</td>\n      <td>occasionally</td>\n      <td>sometimes</td>\n      <td>normal</td>\n      <td>0.0</td>\n      <td>0</td>\n      <td>not much</td>\n      <td>no</td>\n      <td>0</td>\n    </tr>\n    <tr>\n      <th>944</th>\n      <td>50-59</td>\n      <td>Female</td>\n      <td>no</td>\n      <td>yes</td>\n      <td>one hr or more</td>\n      <td>22.0</td>\n      <td>no</td>\n      <td>no</td>\n      <td>8</td>\n      <td>5</td>\n      <td>yes</td>\n      <td>occasionally</td>\n      <td>always</td>\n      <td>normal</td>\n      <td>3.0</td>\n      <td>0</td>\n      <td>not much</td>\n      <td>yes</td>\n      <td>0</td>\n    </tr>\n    <tr>\n      <th>946</th>\n      <td>40-49</td>\n      <td>Male</td>\n      <td>yes</td>\n      <td>yes</td>\n      <td>one hr or more</td>\n      <td>22.0</td>\n      <td>no</td>\n      <td>no</td>\n      <td>7</td>\n      <td>6</td>\n      <td>yes</td>\n      <td>occasionally</td>\n      <td>sometimes</td>\n      <td>high</td>\n      <td>0.0</td>\n      <td>0</td>\n      <td>not much</td>\n      <td>yes</td>\n      <td>0</td>\n    </tr>\n    <tr>\n      <th>947</th>\n      <td>less than 40</td>\n      <td>Male</td>\n      <td>yes</td>\n      <td>no</td>\n      <td>more than half an hr</td>\n      <td>25.0</td>\n      <td>no</td>\n      <td>no</td>\n      <td>8</td>\n      <td>6</td>\n      <td>no</td>\n      <td>often</td>\n      <td>sometimes</td>\n      <td>normal</td>\n      <td>0.0</td>\n      <td>0</td>\n      <td>not much</td>\n      <td>yes</td>\n      <td>0</td>\n    </tr>\n  </tbody>\n</table>\n<p>328 rows × 19 columns</p>\n</div>"
     },
     "execution_count": 32,
     "metadata": {},
     "output_type": "execute_result"
    }
   ],
   "source": [
    "# retorna todos os data points onde o clus é igual á 1\n",
    "df.loc[df.clus==0]"
   ],
   "metadata": {
    "collapsed": false,
    "pycharm": {
     "name": "#%%\n"
    }
   }
  },
  {
   "cell_type": "code",
   "execution_count": 33,
   "outputs": [
    {
     "data": {
      "text/plain": "      BMI  Sleep  SoundSleep  Pregancies  Age_40-49  Age_50-59  \\\n0    39.0      8           6         0.0          0          1   \n1    28.0      8           6         0.0          0          1   \n2    24.0      6           6         0.0          1          0   \n3    23.0      8           6         0.0          0          1   \n4    27.0      8           8         0.0          1          0   \n..    ...    ...         ...         ...        ...        ...   \n947  25.0      8           6         0.0          0          0   \n948  27.0      6           5         0.0          0          0   \n949  23.0      6           5         0.0          0          0   \n950  27.0      6           5         0.0          0          0   \n951  30.0      7           4         2.0          0          0   \n\n     Age_60 or older  Age_less than 40  Gender_Female  Gender_Male  ...  \\\n0                  0                 0              0            1  ...   \n1                  0                 0              0            1  ...   \n2                  0                 0              0            1  ...   \n3                  0                 0              0            1  ...   \n4                  0                 0              0            1  ...   \n..               ...               ...            ...          ...  ...   \n947                0                 1              0            1  ...   \n948                1                 0              0            1  ...   \n949                1                 0              0            1  ...   \n950                1                 0              0            1  ...   \n951                1                 0              1            0  ...   \n\n     BPLevel_low  BPLevel_normal  Pdiabetes_0  Pdiabetes_no  Pdiabetes_yes  \\\n0              0               0            1             0              0   \n1              0               1            1             0              0   \n2              0               1            1             0              0   \n3              0               1            1             0              0   \n4              0               1            1             0              0   \n..           ...             ...          ...           ...            ...   \n947            0               1            1             0              0   \n948            0               0            1             0              0   \n949            0               0            1             0              0   \n950            0               0            1             0              0   \n951            0               0            1             0              0   \n\n     UriationFreq_not much  UriationFreq_quite often  Diabetic_no  \\\n0                        1                         0            1   \n1                        1                         0            1   \n2                        1                         0            1   \n3                        1                         0            1   \n4                        1                         0            1   \n..                     ...                       ...          ...   \n947                      1                         0            0   \n948                      0                         1            0   \n949                      1                         0            1   \n950                      1                         0            1   \n951                      0                         1            0   \n\n     Diabetic_yes  clus  \n0               0     2  \n1               0     1  \n2               0     0  \n3               0     0  \n4               0     0  \n..            ...   ...  \n947             1     0  \n948             1     1  \n949             0     1  \n950             0     1  \n951             1     1  \n\n[952 rows x 43 columns]",
      "text/html": "<div>\n<style scoped>\n    .dataframe tbody tr th:only-of-type {\n        vertical-align: middle;\n    }\n\n    .dataframe tbody tr th {\n        vertical-align: top;\n    }\n\n    .dataframe thead th {\n        text-align: right;\n    }\n</style>\n<table border=\"1\" class=\"dataframe\">\n  <thead>\n    <tr style=\"text-align: right;\">\n      <th></th>\n      <th>BMI</th>\n      <th>Sleep</th>\n      <th>SoundSleep</th>\n      <th>Pregancies</th>\n      <th>Age_40-49</th>\n      <th>Age_50-59</th>\n      <th>Age_60 or older</th>\n      <th>Age_less than 40</th>\n      <th>Gender_Female</th>\n      <th>Gender_Male</th>\n      <th>...</th>\n      <th>BPLevel_low</th>\n      <th>BPLevel_normal</th>\n      <th>Pdiabetes_0</th>\n      <th>Pdiabetes_no</th>\n      <th>Pdiabetes_yes</th>\n      <th>UriationFreq_not much</th>\n      <th>UriationFreq_quite often</th>\n      <th>Diabetic_no</th>\n      <th>Diabetic_yes</th>\n      <th>clus</th>\n    </tr>\n  </thead>\n  <tbody>\n    <tr>\n      <th>0</th>\n      <td>39.0</td>\n      <td>8</td>\n      <td>6</td>\n      <td>0.0</td>\n      <td>0</td>\n      <td>1</td>\n      <td>0</td>\n      <td>0</td>\n      <td>0</td>\n      <td>1</td>\n      <td>...</td>\n      <td>0</td>\n      <td>0</td>\n      <td>1</td>\n      <td>0</td>\n      <td>0</td>\n      <td>1</td>\n      <td>0</td>\n      <td>1</td>\n      <td>0</td>\n      <td>2</td>\n    </tr>\n    <tr>\n      <th>1</th>\n      <td>28.0</td>\n      <td>8</td>\n      <td>6</td>\n      <td>0.0</td>\n      <td>0</td>\n      <td>1</td>\n      <td>0</td>\n      <td>0</td>\n      <td>0</td>\n      <td>1</td>\n      <td>...</td>\n      <td>0</td>\n      <td>1</td>\n      <td>1</td>\n      <td>0</td>\n      <td>0</td>\n      <td>1</td>\n      <td>0</td>\n      <td>1</td>\n      <td>0</td>\n      <td>1</td>\n    </tr>\n    <tr>\n      <th>2</th>\n      <td>24.0</td>\n      <td>6</td>\n      <td>6</td>\n      <td>0.0</td>\n      <td>1</td>\n      <td>0</td>\n      <td>0</td>\n      <td>0</td>\n      <td>0</td>\n      <td>1</td>\n      <td>...</td>\n      <td>0</td>\n      <td>1</td>\n      <td>1</td>\n      <td>0</td>\n      <td>0</td>\n      <td>1</td>\n      <td>0</td>\n      <td>1</td>\n      <td>0</td>\n      <td>0</td>\n    </tr>\n    <tr>\n      <th>3</th>\n      <td>23.0</td>\n      <td>8</td>\n      <td>6</td>\n      <td>0.0</td>\n      <td>0</td>\n      <td>1</td>\n      <td>0</td>\n      <td>0</td>\n      <td>0</td>\n      <td>1</td>\n      <td>...</td>\n      <td>0</td>\n      <td>1</td>\n      <td>1</td>\n      <td>0</td>\n      <td>0</td>\n      <td>1</td>\n      <td>0</td>\n      <td>1</td>\n      <td>0</td>\n      <td>0</td>\n    </tr>\n    <tr>\n      <th>4</th>\n      <td>27.0</td>\n      <td>8</td>\n      <td>8</td>\n      <td>0.0</td>\n      <td>1</td>\n      <td>0</td>\n      <td>0</td>\n      <td>0</td>\n      <td>0</td>\n      <td>1</td>\n      <td>...</td>\n      <td>0</td>\n      <td>1</td>\n      <td>1</td>\n      <td>0</td>\n      <td>0</td>\n      <td>1</td>\n      <td>0</td>\n      <td>1</td>\n      <td>0</td>\n      <td>0</td>\n    </tr>\n    <tr>\n      <th>...</th>\n      <td>...</td>\n      <td>...</td>\n      <td>...</td>\n      <td>...</td>\n      <td>...</td>\n      <td>...</td>\n      <td>...</td>\n      <td>...</td>\n      <td>...</td>\n      <td>...</td>\n      <td>...</td>\n      <td>...</td>\n      <td>...</td>\n      <td>...</td>\n      <td>...</td>\n      <td>...</td>\n      <td>...</td>\n      <td>...</td>\n      <td>...</td>\n      <td>...</td>\n      <td>...</td>\n    </tr>\n    <tr>\n      <th>947</th>\n      <td>25.0</td>\n      <td>8</td>\n      <td>6</td>\n      <td>0.0</td>\n      <td>0</td>\n      <td>0</td>\n      <td>0</td>\n      <td>1</td>\n      <td>0</td>\n      <td>1</td>\n      <td>...</td>\n      <td>0</td>\n      <td>1</td>\n      <td>1</td>\n      <td>0</td>\n      <td>0</td>\n      <td>1</td>\n      <td>0</td>\n      <td>0</td>\n      <td>1</td>\n      <td>0</td>\n    </tr>\n    <tr>\n      <th>948</th>\n      <td>27.0</td>\n      <td>6</td>\n      <td>5</td>\n      <td>0.0</td>\n      <td>0</td>\n      <td>0</td>\n      <td>1</td>\n      <td>0</td>\n      <td>0</td>\n      <td>1</td>\n      <td>...</td>\n      <td>0</td>\n      <td>0</td>\n      <td>1</td>\n      <td>0</td>\n      <td>0</td>\n      <td>0</td>\n      <td>1</td>\n      <td>0</td>\n      <td>1</td>\n      <td>1</td>\n    </tr>\n    <tr>\n      <th>949</th>\n      <td>23.0</td>\n      <td>6</td>\n      <td>5</td>\n      <td>0.0</td>\n      <td>0</td>\n      <td>0</td>\n      <td>1</td>\n      <td>0</td>\n      <td>0</td>\n      <td>1</td>\n      <td>...</td>\n      <td>0</td>\n      <td>0</td>\n      <td>1</td>\n      <td>0</td>\n      <td>0</td>\n      <td>1</td>\n      <td>0</td>\n      <td>1</td>\n      <td>0</td>\n      <td>1</td>\n    </tr>\n    <tr>\n      <th>950</th>\n      <td>27.0</td>\n      <td>6</td>\n      <td>5</td>\n      <td>0.0</td>\n      <td>0</td>\n      <td>0</td>\n      <td>1</td>\n      <td>0</td>\n      <td>0</td>\n      <td>1</td>\n      <td>...</td>\n      <td>0</td>\n      <td>0</td>\n      <td>1</td>\n      <td>0</td>\n      <td>0</td>\n      <td>1</td>\n      <td>0</td>\n      <td>1</td>\n      <td>0</td>\n      <td>1</td>\n    </tr>\n    <tr>\n      <th>951</th>\n      <td>30.0</td>\n      <td>7</td>\n      <td>4</td>\n      <td>2.0</td>\n      <td>0</td>\n      <td>0</td>\n      <td>1</td>\n      <td>0</td>\n      <td>1</td>\n      <td>0</td>\n      <td>...</td>\n      <td>0</td>\n      <td>0</td>\n      <td>1</td>\n      <td>0</td>\n      <td>0</td>\n      <td>0</td>\n      <td>1</td>\n      <td>0</td>\n      <td>1</td>\n      <td>1</td>\n    </tr>\n  </tbody>\n</table>\n<p>952 rows × 43 columns</p>\n</div>"
     },
     "execution_count": 33,
     "metadata": {},
     "output_type": "execute_result"
    }
   ],
   "source": [
    "df_d.loc[:, 'clus'] = X_t\n",
    "df_d"
   ],
   "metadata": {
    "collapsed": false,
    "pycharm": {
     "name": "#%%\n"
    }
   }
  },
  {
   "cell_type": "code",
   "execution_count": null,
   "outputs": [],
   "source": [],
   "metadata": {
    "collapsed": false,
    "pycharm": {
     "name": "#%%\n"
    }
   }
  }
 ],
 "metadata": {
  "kernelspec": {
   "display_name": "Python 3",
   "language": "python",
   "name": "python3"
  },
  "language_info": {
   "codemirror_mode": {
    "name": "ipython",
    "version": 2
   },
   "file_extension": ".py",
   "mimetype": "text/x-python",
   "name": "python",
   "nbconvert_exporter": "python",
   "pygments_lexer": "ipython2",
   "version": "2.7.6"
  }
 },
 "nbformat": 4,
 "nbformat_minor": 0
}